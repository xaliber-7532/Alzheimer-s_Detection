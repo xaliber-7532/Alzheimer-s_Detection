{
  "cells": [
    {
      "cell_type": "code",
      "execution_count": null,
      "metadata": {
        "id": "83C4vz8ZmxiD"
      },
      "outputs": [],
      "source": [
        "import os\n",
        "from glob import glob\n",
        "import numpy as np\n",
        "import pandas as pd\n",
        "import tensorflow as tf\n",
        "from tensorflow.keras.preprocessing.image import ImageDataGenerator\n",
        "from tensorflow.keras.models import Model,load_model\n",
        "from tensorflow.keras.layers import Input,Dense,Conv2D,MaxPooling2D,Dropout,Flatten,GlobalAveragePooling2D\n",
        "from tensorflow.keras.metrics import AUC,Precision, Recall\n",
        "from tensorflow.keras.callbacks import EarlyStopping, ReduceLROnPlateau\n",
        "from tensorflow.keras.utils import plot_model\n",
        "from tensorflow.keras import layers"
      ]
    },
    {
      "cell_type": "code",
      "execution_count": null,
      "metadata": {
        "id": "jErrkY1fpKlv"
      },
      "outputs": [],
      "source": [
        "import seaborn as sns\n",
        "from scipy import ndimage\n",
        "from tqdm.autonotebook import tqdm\n",
        "from sklearn.model_selection import train_test_split\n",
        "import cv2 as cv\n",
        "from joblib import Parallel, delayed"
      ]
    },
    {
      "cell_type": "code",
      "execution_count": null,
      "metadata": {
        "colab": {
          "base_uri": "https://localhost:8080/"
        },
        "id": "YeUDxIzLoK8e",
        "outputId": "eacca47f-7f2b-4e22-e4ee-648bfa5562e5"
      },
      "outputs": [
        {
          "output_type": "stream",
          "name": "stdout",
          "text": [
            "Looking in indexes: https://pypi.org/simple, https://us-python.pkg.dev/colab-wheels/public/simple/\n",
            "\u001b[31mERROR: Could not find a version that satisfies the requirement kaggle_datasets (from versions: none)\u001b[0m\u001b[31m\n",
            "\u001b[0m\u001b[31mERROR: No matching distribution found for kaggle_datasets\u001b[0m\u001b[31m\n",
            "\u001b[0m"
          ]
        }
      ],
      "source": [
        "pip install kaggle_datasets"
      ]
    },
    {
      "cell_type": "code",
      "execution_count": null,
      "metadata": {
        "colab": {
          "base_uri": "https://localhost:8080/"
        },
        "id": "-1s5ZUvDohBp",
        "outputId": "4f09baf9-4dfa-4270-e174-f9e574e06fa8"
      },
      "outputs": [
        {
          "output_type": "stream",
          "name": "stdout",
          "text": [
            "Num GPUs: 1\n",
            "Found 1 GPU\n"
          ]
        }
      ],
      "source": [
        "gpus = tf.config.list_physical_devices('GPU')\n",
        "print(\"Num GPUs:\", len(gpus))\n",
        "if gpus:\n",
        "    print(f\"Found {len(gpus)} GPU\")\n",
        "try:\n",
        "     for gpu in gpus:\n",
        "        tf.config.experimental.set_memory_growth(gpu, True)\n",
        "except RuntimeError as e:\n",
        "    print(e)"
      ]
    },
    {
      "cell_type": "code",
      "execution_count": null,
      "metadata": {
        "colab": {
          "base_uri": "https://localhost:8080/"
        },
        "id": "mDO7Yyxwo7wx",
        "outputId": "ef340ea3-874f-49bf-94f8-0e0bb4e93538"
      },
      "outputs": [
        {
          "output_type": "stream",
          "name": "stdout",
          "text": [
            "Number of replicas: 1\n",
            "2.12.0\n"
          ]
        }
      ],
      "source": [
        "import matplotlib.pyplot as plt\n",
        "import PIL\n",
        "try:\n",
        "    tpu = tf.distribute.cluster_resolver.TPUClusterResolver()\n",
        "    print('Device:', tpu.master())\n",
        "    tf.config.experimental_connect_to_cluster(tpu)\n",
        "    tf.tpu.experimental.initialize_tpu_system(tpu)\n",
        "    strategy = tf.distribute.experimental.TPUStrategy(tpu)\n",
        "except:\n",
        "    strategy = tf.distribute.get_strategy()\n",
        "print('Number of replicas:', strategy.num_replicas_in_sync)\n",
        "    \n",
        "print(tf.__version__)"
      ]
    },
    {
      "cell_type": "code",
      "execution_count": null,
      "metadata": {
        "id": "0u_btpRfpkkq"
      },
      "outputs": [],
      "source": [
        "AUTOTUNE = tf.data.experimental.AUTOTUNE\n",
        "BATCH_SIZE = 16 * strategy.num_replicas_in_sync\n",
        "IMAGE_SIZE = [176, 208]\n",
        "EPOCHS = 100"
      ]
    },
    {
      "cell_type": "code",
      "execution_count": null,
      "metadata": {
        "colab": {
          "base_uri": "https://localhost:8080/",
          "height": 38
        },
        "id": "t6C7DdpHpocf",
        "outputId": "5282f8b3-7610-475f-bb27-be3d3ef17411"
      },
      "outputs": [
        {
          "output_type": "display_data",
          "data": {
            "text/plain": [
              "<IPython.core.display.HTML object>"
            ],
            "text/html": [
              "\n",
              "     <input type=\"file\" id=\"files-327b6e04-043f-4fe7-b651-6f7f55ef4a34\" name=\"files[]\" multiple disabled\n",
              "        style=\"border:none\" />\n",
              "     <output id=\"result-327b6e04-043f-4fe7-b651-6f7f55ef4a34\">\n",
              "      Upload widget is only available when the cell has been executed in the\n",
              "      current browser session. Please rerun this cell to enable.\n",
              "      </output>\n",
              "      <script>// Copyright 2017 Google LLC\n",
              "//\n",
              "// Licensed under the Apache License, Version 2.0 (the \"License\");\n",
              "// you may not use this file except in compliance with the License.\n",
              "// You may obtain a copy of the License at\n",
              "//\n",
              "//      http://www.apache.org/licenses/LICENSE-2.0\n",
              "//\n",
              "// Unless required by applicable law or agreed to in writing, software\n",
              "// distributed under the License is distributed on an \"AS IS\" BASIS,\n",
              "// WITHOUT WARRANTIES OR CONDITIONS OF ANY KIND, either express or implied.\n",
              "// See the License for the specific language governing permissions and\n",
              "// limitations under the License.\n",
              "\n",
              "/**\n",
              " * @fileoverview Helpers for google.colab Python module.\n",
              " */\n",
              "(function(scope) {\n",
              "function span(text, styleAttributes = {}) {\n",
              "  const element = document.createElement('span');\n",
              "  element.textContent = text;\n",
              "  for (const key of Object.keys(styleAttributes)) {\n",
              "    element.style[key] = styleAttributes[key];\n",
              "  }\n",
              "  return element;\n",
              "}\n",
              "\n",
              "// Max number of bytes which will be uploaded at a time.\n",
              "const MAX_PAYLOAD_SIZE = 100 * 1024;\n",
              "\n",
              "function _uploadFiles(inputId, outputId) {\n",
              "  const steps = uploadFilesStep(inputId, outputId);\n",
              "  const outputElement = document.getElementById(outputId);\n",
              "  // Cache steps on the outputElement to make it available for the next call\n",
              "  // to uploadFilesContinue from Python.\n",
              "  outputElement.steps = steps;\n",
              "\n",
              "  return _uploadFilesContinue(outputId);\n",
              "}\n",
              "\n",
              "// This is roughly an async generator (not supported in the browser yet),\n",
              "// where there are multiple asynchronous steps and the Python side is going\n",
              "// to poll for completion of each step.\n",
              "// This uses a Promise to block the python side on completion of each step,\n",
              "// then passes the result of the previous step as the input to the next step.\n",
              "function _uploadFilesContinue(outputId) {\n",
              "  const outputElement = document.getElementById(outputId);\n",
              "  const steps = outputElement.steps;\n",
              "\n",
              "  const next = steps.next(outputElement.lastPromiseValue);\n",
              "  return Promise.resolve(next.value.promise).then((value) => {\n",
              "    // Cache the last promise value to make it available to the next\n",
              "    // step of the generator.\n",
              "    outputElement.lastPromiseValue = value;\n",
              "    return next.value.response;\n",
              "  });\n",
              "}\n",
              "\n",
              "/**\n",
              " * Generator function which is called between each async step of the upload\n",
              " * process.\n",
              " * @param {string} inputId Element ID of the input file picker element.\n",
              " * @param {string} outputId Element ID of the output display.\n",
              " * @return {!Iterable<!Object>} Iterable of next steps.\n",
              " */\n",
              "function* uploadFilesStep(inputId, outputId) {\n",
              "  const inputElement = document.getElementById(inputId);\n",
              "  inputElement.disabled = false;\n",
              "\n",
              "  const outputElement = document.getElementById(outputId);\n",
              "  outputElement.innerHTML = '';\n",
              "\n",
              "  const pickedPromise = new Promise((resolve) => {\n",
              "    inputElement.addEventListener('change', (e) => {\n",
              "      resolve(e.target.files);\n",
              "    });\n",
              "  });\n",
              "\n",
              "  const cancel = document.createElement('button');\n",
              "  inputElement.parentElement.appendChild(cancel);\n",
              "  cancel.textContent = 'Cancel upload';\n",
              "  const cancelPromise = new Promise((resolve) => {\n",
              "    cancel.onclick = () => {\n",
              "      resolve(null);\n",
              "    };\n",
              "  });\n",
              "\n",
              "  // Wait for the user to pick the files.\n",
              "  const files = yield {\n",
              "    promise: Promise.race([pickedPromise, cancelPromise]),\n",
              "    response: {\n",
              "      action: 'starting',\n",
              "    }\n",
              "  };\n",
              "\n",
              "  cancel.remove();\n",
              "\n",
              "  // Disable the input element since further picks are not allowed.\n",
              "  inputElement.disabled = true;\n",
              "\n",
              "  if (!files) {\n",
              "    return {\n",
              "      response: {\n",
              "        action: 'complete',\n",
              "      }\n",
              "    };\n",
              "  }\n",
              "\n",
              "  for (const file of files) {\n",
              "    const li = document.createElement('li');\n",
              "    li.append(span(file.name, {fontWeight: 'bold'}));\n",
              "    li.append(span(\n",
              "        `(${file.type || 'n/a'}) - ${file.size} bytes, ` +\n",
              "        `last modified: ${\n",
              "            file.lastModifiedDate ? file.lastModifiedDate.toLocaleDateString() :\n",
              "                                    'n/a'} - `));\n",
              "    const percent = span('0% done');\n",
              "    li.appendChild(percent);\n",
              "\n",
              "    outputElement.appendChild(li);\n",
              "\n",
              "    const fileDataPromise = new Promise((resolve) => {\n",
              "      const reader = new FileReader();\n",
              "      reader.onload = (e) => {\n",
              "        resolve(e.target.result);\n",
              "      };\n",
              "      reader.readAsArrayBuffer(file);\n",
              "    });\n",
              "    // Wait for the data to be ready.\n",
              "    let fileData = yield {\n",
              "      promise: fileDataPromise,\n",
              "      response: {\n",
              "        action: 'continue',\n",
              "      }\n",
              "    };\n",
              "\n",
              "    // Use a chunked sending to avoid message size limits. See b/62115660.\n",
              "    let position = 0;\n",
              "    do {\n",
              "      const length = Math.min(fileData.byteLength - position, MAX_PAYLOAD_SIZE);\n",
              "      const chunk = new Uint8Array(fileData, position, length);\n",
              "      position += length;\n",
              "\n",
              "      const base64 = btoa(String.fromCharCode.apply(null, chunk));\n",
              "      yield {\n",
              "        response: {\n",
              "          action: 'append',\n",
              "          file: file.name,\n",
              "          data: base64,\n",
              "        },\n",
              "      };\n",
              "\n",
              "      let percentDone = fileData.byteLength === 0 ?\n",
              "          100 :\n",
              "          Math.round((position / fileData.byteLength) * 100);\n",
              "      percent.textContent = `${percentDone}% done`;\n",
              "\n",
              "    } while (position < fileData.byteLength);\n",
              "  }\n",
              "\n",
              "  // All done.\n",
              "  yield {\n",
              "    response: {\n",
              "      action: 'complete',\n",
              "    }\n",
              "  };\n",
              "}\n",
              "\n",
              "scope.google = scope.google || {};\n",
              "scope.google.colab = scope.google.colab || {};\n",
              "scope.google.colab._files = {\n",
              "  _uploadFiles,\n",
              "  _uploadFilesContinue,\n",
              "};\n",
              "})(self);\n",
              "</script> "
            ]
          },
          "metadata": {}
        }
      ],
      "source": [
        "import zipfile\n",
        "from google.colab import files\n",
        "uploaded = files.upload()"
      ]
    },
    {
      "cell_type": "code",
      "execution_count": null,
      "metadata": {
        "id": "JNvyqqsXrtKT"
      },
      "outputs": [],
      "source": [
        "import os\n",
        "zip_ref = zipfile.ZipFile(\"archive.zip\",'r')\n",
        "zip_ref.extractall(\"tmp/\")\n",
        "zip_ref.close()"
      ]
    },
    {
      "cell_type": "code",
      "execution_count": null,
      "metadata": {
        "id": "JRaBsEiN0gsH"
      },
      "outputs": [],
      "source": [
        "base_dir = 'tmp/Alzheimer_s Dataset'\n",
        "train_dir = os.path.join(base_dir, 'train')\n",
        "test_dir = os.path.join(base_dir, 'test')\n"
      ]
    },
    {
      "cell_type": "code",
      "source": [
        "##############my_code_##############\n",
        "from tensorflow.keras.preprocessing.image import ImageDataGenerator\n",
        "train_datagen = ImageDataGenerator(\n",
        "      rescale=1./255,\n",
        "      rotation_range=40,\n",
        "      width_shift_range=0.2,\n",
        "      height_shift_range=0.2,\n",
        "      shear_range=0.2,\n",
        "      zoom_range=0.2,\n",
        "      horizontal_flip=True,\n",
        "      fill_mode='nearest')\n",
        "test_datagen = ImageDataGenerator(rescale=1./255)\n",
        "train_ds = train_datagen.flow_from_directory(train_dir, target_size = IMAGE_SIZE,\n",
        "                                             batch_size = BATCH_SIZE)\n",
        "val_ds = test_datagen.flow_from_directory(test_dir, target_size = IMAGE_SIZE,\n",
        "                                             batch_size = BATCH_SIZE)"
      ],
      "metadata": {
        "colab": {
          "base_uri": "https://localhost:8080/"
        },
        "id": "HBeswtgG9utt",
        "outputId": "94394780-aaa0-49b2-99be-171942dce90c"
      },
      "execution_count": null,
      "outputs": [
        {
          "output_type": "stream",
          "name": "stdout",
          "text": [
            "Found 5121 images belonging to 4 classes.\n",
            "Found 1279 images belonging to 4 classes.\n"
          ]
        }
      ]
    },
    {
      "cell_type": "code",
      "execution_count": null,
      "metadata": {
        "colab": {
          "base_uri": "https://localhost:8080/"
        },
        "id": "4_b1fp-_1MZk",
        "outputId": "b1f09bc9-3e85-42c6-ec23-bb5f43e8b936"
      },
      "outputs": [
        {
          "output_type": "stream",
          "name": "stdout",
          "text": [
            "Found 5121 files belonging to 4 classes.\n",
            "Using 4097 files for training.\n",
            "Found 1279 files belonging to 4 classes.\n",
            "Using 255 files for validation.\n"
          ]
        }
      ],
      "source": [
        "# train_ds = tf.keras.preprocessing.image_dataset_from_directory(train_dir,\n",
        "#     validation_split=0.2,\n",
        "#     subset=\"training\",\n",
        "#     seed=1337,\n",
        "#     image_size=IMAGE_SIZE,\n",
        "#     batch_size=BATCH_SIZE,\n",
        "# )\n",
        "\n",
        "# val_ds = tf.keras.preprocessing.image_dataset_from_directory(test_dir,\n",
        "#     validation_split=0.2,\n",
        "#     subset=\"validation\",\n",
        "#     seed=1337,\n",
        "#     image_size=IMAGE_SIZE,\n",
        "#     batch_size=BATCH_SIZE,\n",
        ") "
      ]
    },
    {
      "cell_type": "code",
      "execution_count": null,
      "metadata": {
        "id": "eHLxv094-wQX"
      },
      "outputs": [],
      "source": [
        "#Class_names\n",
        "class_names = ['MildDementia', 'ModerateDementia', 'NonDementia', 'VeryMildDementia']\n",
        "train_ds.class_names = class_names\n",
        "val_ds.class_names = class_names\n",
        "\n",
        "NUM_CLASSES = len(class_names)"
      ]
    },
    {
      "cell_type": "code",
      "execution_count": null,
      "metadata": {
        "colab": {
          "base_uri": "https://localhost:8080/",
          "height": 252
        },
        "id": "-OFh_1de_CMu",
        "outputId": "358c6c43-72d9-4b30-eb7d-d484c4c7851a"
      },
      "outputs": [
        {
          "output_type": "error",
          "ename": "AttributeError",
          "evalue": "ignored",
          "traceback": [
            "\u001b[0;31m---------------------------------------------------------------------------\u001b[0m",
            "\u001b[0;31mAttributeError\u001b[0m                            Traceback (most recent call last)",
            "\u001b[0;32m<ipython-input-19-fee75afd9442>\u001b[0m in \u001b[0;36m<cell line: 2>\u001b[0;34m()\u001b[0m\n\u001b[1;32m      1\u001b[0m \u001b[0mplt\u001b[0m\u001b[0;34m.\u001b[0m\u001b[0mfigure\u001b[0m\u001b[0;34m(\u001b[0m\u001b[0mfigsize\u001b[0m\u001b[0;34m=\u001b[0m\u001b[0;34m(\u001b[0m\u001b[0;36m10\u001b[0m\u001b[0;34m,\u001b[0m \u001b[0;36m10\u001b[0m\u001b[0;34m)\u001b[0m\u001b[0;34m)\u001b[0m\u001b[0;34m\u001b[0m\u001b[0;34m\u001b[0m\u001b[0m\n\u001b[0;32m----> 2\u001b[0;31m \u001b[0;32mfor\u001b[0m \u001b[0mimages\u001b[0m\u001b[0;34m,\u001b[0m \u001b[0mlabels\u001b[0m \u001b[0;32min\u001b[0m \u001b[0mtrain_ds\u001b[0m\u001b[0;34m.\u001b[0m\u001b[0mtake\u001b[0m\u001b[0;34m(\u001b[0m\u001b[0;36m1\u001b[0m\u001b[0;34m)\u001b[0m\u001b[0;34m:\u001b[0m\u001b[0;34m\u001b[0m\u001b[0;34m\u001b[0m\u001b[0m\n\u001b[0m\u001b[1;32m      3\u001b[0m   \u001b[0;32mfor\u001b[0m \u001b[0mi\u001b[0m \u001b[0;32min\u001b[0m \u001b[0mrange\u001b[0m\u001b[0;34m(\u001b[0m\u001b[0;36m9\u001b[0m\u001b[0;34m)\u001b[0m\u001b[0;34m:\u001b[0m\u001b[0;34m\u001b[0m\u001b[0;34m\u001b[0m\u001b[0m\n\u001b[1;32m      4\u001b[0m     \u001b[0max\u001b[0m \u001b[0;34m=\u001b[0m \u001b[0mplt\u001b[0m\u001b[0;34m.\u001b[0m\u001b[0msubplot\u001b[0m\u001b[0;34m(\u001b[0m\u001b[0;36m3\u001b[0m\u001b[0;34m,\u001b[0m\u001b[0;36m3\u001b[0m\u001b[0;34m,\u001b[0m \u001b[0mi\u001b[0m \u001b[0;34m+\u001b[0m \u001b[0;36m1\u001b[0m\u001b[0;34m)\u001b[0m\u001b[0;34m\u001b[0m\u001b[0;34m\u001b[0m\u001b[0m\n\u001b[1;32m      5\u001b[0m     \u001b[0mplt\u001b[0m\u001b[0;34m.\u001b[0m\u001b[0mimshow\u001b[0m\u001b[0;34m(\u001b[0m\u001b[0mimages\u001b[0m\u001b[0;34m[\u001b[0m\u001b[0mi\u001b[0m\u001b[0;34m]\u001b[0m\u001b[0;34m.\u001b[0m\u001b[0mnumpy\u001b[0m\u001b[0;34m(\u001b[0m\u001b[0;34m)\u001b[0m\u001b[0;34m.\u001b[0m\u001b[0mastype\u001b[0m\u001b[0;34m(\u001b[0m\u001b[0;34m\"uint8\"\u001b[0m\u001b[0;34m)\u001b[0m\u001b[0;34m)\u001b[0m\u001b[0;34m\u001b[0m\u001b[0;34m\u001b[0m\u001b[0m\n",
            "\u001b[0;31mAttributeError\u001b[0m: 'DirectoryIterator' object has no attribute 'take'"
          ]
        },
        {
          "output_type": "display_data",
          "data": {
            "text/plain": [
              "<Figure size 1000x1000 with 0 Axes>"
            ]
          },
          "metadata": {}
        }
      ],
      "source": [
        "plt.figure(figsize=(10, 10))\n",
        "for images, labels in train_ds.take(1):\n",
        "  for i in range(9):\n",
        "    ax = plt.subplot(3,3, i + 1)\n",
        "    plt.imshow(images[i].numpy().astype(\"uint8\"))\n",
        "    plt.title(train_ds.class_names[labels[i]])\n",
        "    plt.axis(\"off\")"
      ]
    },
    {
      "cell_type": "code",
      "execution_count": null,
      "metadata": {
        "id": "wP2qKJ-e_EwW"
      },
      "outputs": [],
      "source": [
        "# DATA AUGMENTATION\n",
        "\n",
        "# In this section we apply data augmentation. it is used to increase the diversity of the training set by applying random (but realistic) transformations, such as image rotation. In this way we can reach a better and improved data variability. We decided to use the Keras preprocessing layers, such as\n",
        "\n",
        "# tf.keras.layers.Resizing, which resizes images.\n",
        "# tf.keras.layers.Rescaling, which rescales input values to a new range.\n",
        "# tf.keras.layers.RandomFlip, which randomly flips images during training.\n",
        "# tf.keras.layers.RandomRotation, which randomly rotates images during training."
      ]
    },
    {
      "cell_type": "code",
      "source": [],
      "metadata": {
        "id": "qiw0ow5g9iEc"
      },
      "execution_count": null,
      "outputs": []
    },
    {
      "cell_type": "code",
      "execution_count": null,
      "metadata": {
        "id": "ZPPAgancAv66"
      },
      "outputs": [],
      "source": [
        "IMG_SIZE = 140\n",
        "resize_and_rescale = tf.keras.Sequential([\n",
        "  layers.Resizing(IMG_SIZE, IMG_SIZE),\n",
        "  layers.Rescaling(1./255)\n",
        "])\n",
        "\n",
        "data_augmentation = tf.keras.Sequential([\n",
        "  layers.RandomFlip(\"horizontal_and_vertical\"),\n",
        "  layers.RandomRotation(0.2),\n",
        "])"
      ]
    },
    {
      "cell_type": "code",
      "execution_count": null,
      "metadata": {
        "id": "vQ8j2VAfCkvl",
        "colab": {
          "base_uri": "https://localhost:8080/",
          "height": 217
        },
        "outputId": "a2433d19-a43b-494b-d084-e514a0fbaffb"
      },
      "outputs": [
        {
          "output_type": "error",
          "ename": "AttributeError",
          "evalue": "ignored",
          "traceback": [
            "\u001b[0;31m---------------------------------------------------------------------------\u001b[0m",
            "\u001b[0;31mAttributeError\u001b[0m                            Traceback (most recent call last)",
            "\u001b[0;32m<ipython-input-20-133cd4b44350>\u001b[0m in \u001b[0;36m<cell line: 5>\u001b[0;34m()\u001b[0m\n\u001b[1;32m      3\u001b[0m     \u001b[0;32mreturn\u001b[0m \u001b[0mimage\u001b[0m\u001b[0;34m,\u001b[0m \u001b[0mlabel\u001b[0m\u001b[0;34m\u001b[0m\u001b[0;34m\u001b[0m\u001b[0m\n\u001b[1;32m      4\u001b[0m \u001b[0;34m\u001b[0m\u001b[0m\n\u001b[0;32m----> 5\u001b[0;31m \u001b[0mtrain_ds\u001b[0m \u001b[0;34m=\u001b[0m \u001b[0mtrain_ds\u001b[0m\u001b[0;34m.\u001b[0m\u001b[0mmap\u001b[0m\u001b[0;34m(\u001b[0m\u001b[0mone_hot_label\u001b[0m\u001b[0;34m,\u001b[0m \u001b[0mnum_parallel_calls\u001b[0m\u001b[0;34m=\u001b[0m\u001b[0mAUTOTUNE\u001b[0m\u001b[0;34m)\u001b[0m\u001b[0;34m\u001b[0m\u001b[0;34m\u001b[0m\u001b[0m\n\u001b[0m\u001b[1;32m      6\u001b[0m \u001b[0mval_ds\u001b[0m \u001b[0;34m=\u001b[0m \u001b[0mval_ds\u001b[0m\u001b[0;34m.\u001b[0m\u001b[0mmap\u001b[0m\u001b[0;34m(\u001b[0m\u001b[0mone_hot_label\u001b[0m\u001b[0;34m,\u001b[0m \u001b[0mnum_parallel_calls\u001b[0m\u001b[0;34m=\u001b[0m\u001b[0mAUTOTUNE\u001b[0m\u001b[0;34m)\u001b[0m\u001b[0;34m\u001b[0m\u001b[0;34m\u001b[0m\u001b[0m\n",
            "\u001b[0;31mAttributeError\u001b[0m: 'DirectoryIterator' object has no attribute 'map'"
          ]
        }
      ],
      "source": [
        "def one_hot_label(image, label):\n",
        "    label = tf.one_hot(label, NUM_CLASSES)\n",
        "    return image, label\n",
        "\n",
        "train_ds = train_ds.map(one_hot_label, num_parallel_calls=AUTOTUNE)\n",
        "val_ds = val_ds.map(one_hot_label, num_parallel_calls=AUTOTUNE)"
      ]
    },
    {
      "cell_type": "code",
      "execution_count": null,
      "metadata": {
        "id": "qssTpaPdLbN7",
        "colab": {
          "base_uri": "https://localhost:8080/",
          "height": 182
        },
        "outputId": "0be19522-7b33-4873-822a-000b430ea70d"
      },
      "outputs": [
        {
          "output_type": "error",
          "ename": "AttributeError",
          "evalue": "ignored",
          "traceback": [
            "\u001b[0;31m---------------------------------------------------------------------------\u001b[0m",
            "\u001b[0;31mAttributeError\u001b[0m                            Traceback (most recent call last)",
            "\u001b[0;32m<ipython-input-21-51190d7106fa>\u001b[0m in \u001b[0;36m<cell line: 1>\u001b[0;34m()\u001b[0m\n\u001b[0;32m----> 1\u001b[0;31m \u001b[0mtrain_ds\u001b[0m \u001b[0;34m=\u001b[0m \u001b[0mtrain_ds\u001b[0m\u001b[0;34m.\u001b[0m\u001b[0mcache\u001b[0m\u001b[0;34m(\u001b[0m\u001b[0;34m)\u001b[0m\u001b[0;34m.\u001b[0m\u001b[0mprefetch\u001b[0m\u001b[0;34m(\u001b[0m\u001b[0mbuffer_size\u001b[0m\u001b[0;34m=\u001b[0m\u001b[0mAUTOTUNE\u001b[0m\u001b[0;34m)\u001b[0m\u001b[0;34m\u001b[0m\u001b[0;34m\u001b[0m\u001b[0m\n\u001b[0m\u001b[1;32m      2\u001b[0m \u001b[0mval_ds\u001b[0m \u001b[0;34m=\u001b[0m \u001b[0mval_ds\u001b[0m\u001b[0;34m.\u001b[0m\u001b[0mcache\u001b[0m\u001b[0;34m(\u001b[0m\u001b[0;34m)\u001b[0m\u001b[0;34m.\u001b[0m\u001b[0mprefetch\u001b[0m\u001b[0;34m(\u001b[0m\u001b[0mbuffer_size\u001b[0m\u001b[0;34m=\u001b[0m\u001b[0mAUTOTUNE\u001b[0m\u001b[0;34m)\u001b[0m\u001b[0;34m\u001b[0m\u001b[0;34m\u001b[0m\u001b[0m\n",
            "\u001b[0;31mAttributeError\u001b[0m: 'DirectoryIterator' object has no attribute 'cache'"
          ]
        }
      ],
      "source": [
        "train_ds = train_ds.cache().prefetch(buffer_size=AUTOTUNE)\n",
        "val_ds = val_ds.cache().prefetch(buffer_size=AUTOTUNE)"
      ]
    },
    {
      "cell_type": "code",
      "execution_count": null,
      "metadata": {
        "id": "F8qI9SHILda2"
      },
      "outputs": [],
      "source": [
        "NUM_IMAGES = []\n",
        "\n",
        "for label in class_names:\n",
        "    dir_name = \"tmp/Alzheimer_s Dataset/train/\" + label[:-2] + 'ed'\n",
        "    NUM_IMAGES.append(len([name for name in os.listdir(dir_name)]))"
      ]
    },
    {
      "cell_type": "code",
      "execution_count": null,
      "metadata": {
        "id": "53U28WFlL1V5"
      },
      "outputs": [],
      "source": [
        "def conv_block(filters):\n",
        "    block = tf.keras.Sequential([\n",
        "        tf.keras.layers.SeparableConv2D(filters, 3, activation='relu', padding='same'),\n",
        "        tf.keras.layers.SeparableConv2D(filters, 3, activation='relu', padding='same'),\n",
        "        tf.keras.layers.BatchNormalization(),\n",
        "        tf.keras.layers.MaxPool2D()\n",
        "    ]\n",
        "    )\n",
        "    \n",
        "    return block"
      ]
    },
    {
      "cell_type": "code",
      "execution_count": null,
      "metadata": {
        "id": "bZ0-Sr7UMI4F"
      },
      "outputs": [],
      "source": [
        "def dense_block(units, dropout_rate):\n",
        "    block = tf.keras.Sequential([\n",
        "        tf.keras.layers.Dense(units, activation='relu'),\n",
        "        tf.keras.layers.BatchNormalization(),\n",
        "        tf.keras.layers.Dropout(dropout_rate)\n",
        "    ])\n",
        "    \n",
        "    return block"
      ]
    },
    {
      "cell_type": "code",
      "execution_count": null,
      "metadata": {
        "id": "9U2s9SFVMK5Z"
      },
      "outputs": [],
      "source": [
        "def build_model():\n",
        "  \n",
        "    model = tf.keras.Sequential([\n",
        "        tf.keras.Input(shape=(*IMAGE_SIZE, 3)),\n",
        "        layers.Conv2D(16, 3, padding='same', activation='relu'),\n",
        "        layers.MaxPooling2D(),\n",
        "        \n",
        "        tf.keras.layers.Conv2D(16, 3, activation='relu', padding='same'),\n",
        "        tf.keras.layers.MaxPool2D(),\n",
        "        \n",
        "        conv_block(32),\n",
        "        conv_block(64),\n",
        "        \n",
        "        conv_block(128),\n",
        "        tf.keras.layers.Dropout(0.2),\n",
        "        \n",
        "        conv_block(256),\n",
        "        tf.keras.layers.Dropout(0.2),\n",
        "        \n",
        "        tf.keras.layers.Flatten(),\n",
        "        dense_block(512, 0.7),\n",
        "        dense_block(128, 0.5),\n",
        "        dense_block(64, 0.3),\n",
        "        \n",
        "        tf.keras.layers.Dense(NUM_CLASSES, activation='softmax')\n",
        "    ])\n",
        "    \n",
        "    return model"
      ]
    },
    {
      "cell_type": "code",
      "source": [
        "pip install tf-nightly"
      ],
      "metadata": {
        "id": "wd4kD8NV0Myl",
        "colab": {
          "base_uri": "https://localhost:8080/"
        },
        "outputId": "608ac77b-a5bf-46b4-c6ab-cba810e4959b"
      },
      "execution_count": null,
      "outputs": [
        {
          "output_type": "stream",
          "name": "stdout",
          "text": [
            "Looking in indexes: https://pypi.org/simple, https://us-python.pkg.dev/colab-wheels/public/simple/\n",
            "Collecting tf-nightly\n",
            "  Downloading tf_nightly-2.13.0.dev20230419-cp39-cp39-manylinux_2_17_x86_64.manylinux2014_x86_64.whl (598.5 MB)\n",
            "\u001b[2K     \u001b[91m━━━\u001b[0m\u001b[91m╸\u001b[0m\u001b[90m━━━━━━━━━━━━━━━━━━━━━━━━━━━━━━━━━━\u001b[0m \u001b[32m59.6/598.5 MB\u001b[0m \u001b[31m131.7 MB/s\u001b[0m eta \u001b[36m0:00:05\u001b[0m\n",
            "\u001b[?25h\u001b[31mERROR: Operation cancelled by user\u001b[0m\u001b[31m\n",
            "\u001b[0m"
          ]
        }
      ]
    },
    {
      "cell_type": "code",
      "execution_count": null,
      "metadata": {
        "id": "IpO6OScgMTmH"
      },
      "outputs": [],
      "source": [
        "with strategy.scope():\n",
        "    model = build_model()\n",
        "\n",
        "    METRICS = [tf.keras.metrics.AUC(name='auc'), Precision(name = 'precision'),Recall(name = 'recall'), 'accuracy']\n",
        "    \n",
        "    model.compile(\n",
        "        optimizer='adam',\n",
        "        loss=tf.losses.CategoricalCrossentropy(),\n",
        "        metrics=METRICS\n",
        "    )"
      ]
    },
    {
      "cell_type": "code",
      "execution_count": null,
      "metadata": {
        "id": "pDBU1f4KMXAR"
      },
      "outputs": [],
      "source": [
        "def exponential_decay(lr0, s):\n",
        "    def exponential_decay_fn(epoch):\n",
        "        return lr0 * 0.1 **(epoch / s)\n",
        "    return exponential_decay_fn\n",
        "\n",
        "exponential_decay_fn = exponential_decay(0.01, 100)\n",
        "\n",
        "lr_scheduler = tf.keras.callbacks.LearningRateScheduler(exponential_decay_fn)\n",
        "\n",
        "checkpoint_cb = tf.keras.callbacks.ModelCheckpoint(\"alzheimer_model.h5\",\n",
        "                                                    save_best_only=True)\n",
        "\n",
        "# early_stopping_cb = tf.keras.callbacks.EarlyStopping(patience=10,\n",
        "#                                                      restore_best_weights=True)"
      ]
    },
    {
      "cell_type": "code",
      "execution_count": null,
      "metadata": {
        "colab": {
          "base_uri": "https://localhost:8080/"
        },
        "id": "_jLT_DtLMZ6M",
        "outputId": "76e5093f-7870-4e5a-f881-ada5a0e72f39"
      },
      "outputs": [
        {
          "output_type": "stream",
          "name": "stdout",
          "text": [
            "Epoch 1/200\n",
            "321/321 [==============================] - 76s 154ms/step - loss: 1.1242 - auc: 0.7669 - precision: 0.5118 - recall: 0.2798 - accuracy: 0.4665 - val_loss: 3.6552 - val_auc: 0.7079 - val_precision: 0.5233 - val_recall: 0.5098 - val_accuracy: 0.5176 - lr: 0.0100\n",
            "Epoch 2/200\n",
            "321/321 [==============================] - 47s 145ms/step - loss: 0.9986 - auc: 0.8027 - precision: 0.6165 - recall: 0.2837 - accuracy: 0.5026 - val_loss: 9.8892 - val_auc: 0.6818 - val_precision: 0.5004 - val_recall: 0.5004 - val_accuracy: 0.5004 - lr: 0.0098\n",
            "Epoch 3/200\n",
            "321/321 [==============================] - 47s 145ms/step - loss: 0.9939 - auc: 0.8030 - precision: 0.6461 - recall: 0.2652 - accuracy: 0.5034 - val_loss: 1.1369 - val_auc: 0.6955 - val_precision: 0.0000e+00 - val_recall: 0.0000e+00 - val_accuracy: 0.3143 - lr: 0.0095\n",
            "Epoch 4/200\n",
            "321/321 [==============================] - 47s 146ms/step - loss: 0.9854 - auc: 0.8061 - precision: 0.6776 - recall: 0.2511 - accuracy: 0.5034 - val_loss: 0.9553 - val_auc: 0.8231 - val_precision: 0.7749 - val_recall: 0.2072 - val_accuracy: 0.5027 - lr: 0.0093\n",
            "Epoch 5/200\n",
            "321/321 [==============================] - 47s 146ms/step - loss: 0.9791 - auc: 0.8079 - precision: 0.6851 - recall: 0.2414 - accuracy: 0.5034 - val_loss: 7.5678 - val_auc: 0.6771 - val_precision: 0.5039 - val_recall: 0.5004 - val_accuracy: 0.5059 - lr: 0.0091\n",
            "Epoch 6/200\n",
            "321/321 [==============================] - 47s 146ms/step - loss: 0.9863 - auc: 0.8058 - precision: 0.6745 - recall: 0.2472 - accuracy: 0.5065 - val_loss: 5.5811 - val_auc: 0.6866 - val_precision: 0.5108 - val_recall: 0.4996 - val_accuracy: 0.5152 - lr: 0.0089\n",
            "Epoch 7/200\n",
            "321/321 [==============================] - 46s 143ms/step - loss: 0.9755 - auc: 0.8092 - precision: 0.6914 - recall: 0.2550 - accuracy: 0.5034 - val_loss: 1.0590 - val_auc: 0.8127 - val_precision: 0.5706 - val_recall: 0.3980 - val_accuracy: 0.5043 - lr: 0.0087\n",
            "Epoch 8/200\n",
            "321/321 [==============================] - 47s 146ms/step - loss: 0.9762 - auc: 0.8096 - precision: 0.6917 - recall: 0.2572 - accuracy: 0.5056 - val_loss: 1.1221 - val_auc: 0.7282 - val_precision: 0.0000e+00 - val_recall: 0.0000e+00 - val_accuracy: 0.3503 - lr: 0.0085\n",
            "Epoch 9/200\n",
            "321/321 [==============================] - 46s 145ms/step - loss: 0.9801 - auc: 0.8075 - precision: 0.6957 - recall: 0.2464 - accuracy: 0.5079 - val_loss: 1.0552 - val_auc: 0.7821 - val_precision: 1.0000 - val_recall: 0.0023 - val_accuracy: 0.5004 - lr: 0.0083\n",
            "Epoch 10/200\n",
            "321/321 [==============================] - 46s 144ms/step - loss: 0.9724 - auc: 0.8083 - precision: 0.6876 - recall: 0.2462 - accuracy: 0.5028 - val_loss: 1.7139 - val_auc: 0.8005 - val_precision: 0.5349 - val_recall: 0.4613 - val_accuracy: 0.5129 - lr: 0.0081\n",
            "Epoch 11/200\n",
            "321/321 [==============================] - 46s 142ms/step - loss: 0.9729 - auc: 0.8093 - precision: 0.7080 - recall: 0.2439 - accuracy: 0.5060 - val_loss: 0.9570 - val_auc: 0.8205 - val_precision: 0.7106 - val_recall: 0.2611 - val_accuracy: 0.5004 - lr: 0.0079\n",
            "Epoch 12/200\n",
            "321/321 [==============================] - 46s 143ms/step - loss: 0.9716 - auc: 0.8114 - precision: 0.6936 - recall: 0.2533 - accuracy: 0.5130 - val_loss: 10.1311 - val_auc: 0.6708 - val_precision: 0.5004 - val_recall: 0.5004 - val_accuracy: 0.5004 - lr: 0.0078\n",
            "Epoch 13/200\n",
            "321/321 [==============================] - 48s 148ms/step - loss: 0.9701 - auc: 0.8129 - precision: 0.6937 - recall: 0.2570 - accuracy: 0.5144 - val_loss: 1.0673 - val_auc: 0.7329 - val_precision: 0.0000e+00 - val_recall: 0.0000e+00 - val_accuracy: 0.3354 - lr: 0.0076\n",
            "Epoch 14/200\n",
            "321/321 [==============================] - 46s 144ms/step - loss: 0.9730 - auc: 0.8086 - precision: 0.6761 - recall: 0.2523 - accuracy: 0.5001 - val_loss: 1.0796 - val_auc: 0.7211 - val_precision: 0.0000e+00 - val_recall: 0.0000e+00 - val_accuracy: 0.3503 - lr: 0.0074\n",
            "Epoch 15/200\n",
            "321/321 [==============================] - 46s 144ms/step - loss: 0.9725 - auc: 0.8093 - precision: 0.6913 - recall: 0.2519 - accuracy: 0.5007 - val_loss: 1.0706 - val_auc: 0.7151 - val_precision: 0.0000e+00 - val_recall: 0.0000e+00 - val_accuracy: 0.3503 - lr: 0.0072\n",
            "Epoch 16/200\n",
            "321/321 [==============================] - 46s 142ms/step - loss: 0.9639 - auc: 0.8123 - precision: 0.7058 - recall: 0.2585 - accuracy: 0.5071 - val_loss: 5.5309 - val_auc: 0.6915 - val_precision: 0.5141 - val_recall: 0.4988 - val_accuracy: 0.5176 - lr: 0.0071\n",
            "Epoch 17/200\n",
            "321/321 [==============================] - 46s 145ms/step - loss: 0.9678 - auc: 0.8111 - precision: 0.7059 - recall: 0.2484 - accuracy: 0.5077 - val_loss: 4.5211 - val_auc: 0.7058 - val_precision: 0.5209 - val_recall: 0.4965 - val_accuracy: 0.5215 - lr: 0.0069\n",
            "Epoch 18/200\n",
            "321/321 [==============================] - 47s 145ms/step - loss: 0.9642 - auc: 0.8144 - precision: 0.7019 - recall: 0.2556 - accuracy: 0.5134 - val_loss: 1.2488 - val_auc: 0.8132 - val_precision: 0.5633 - val_recall: 0.4175 - val_accuracy: 0.5246 - lr: 0.0068\n",
            "Epoch 19/200\n",
            "321/321 [==============================] - 46s 145ms/step - loss: 0.9565 - auc: 0.8187 - precision: 0.7064 - recall: 0.2787 - accuracy: 0.5224 - val_loss: 0.9806 - val_auc: 0.8200 - val_precision: 0.6393 - val_recall: 0.3589 - val_accuracy: 0.5004 - lr: 0.0066\n",
            "Epoch 20/200\n",
            "321/321 [==============================] - 46s 144ms/step - loss: 0.9528 - auc: 0.8202 - precision: 0.6981 - recall: 0.2863 - accuracy: 0.5341 - val_loss: 1.0871 - val_auc: 0.8203 - val_precision: 0.5635 - val_recall: 0.4269 - val_accuracy: 0.5184 - lr: 0.0065\n",
            "Epoch 21/200\n",
            "321/321 [==============================] - 45s 141ms/step - loss: 0.9459 - auc: 0.8217 - precision: 0.6970 - recall: 0.2871 - accuracy: 0.5276 - val_loss: 0.9618 - val_auc: 0.8204 - val_precision: 0.6826 - val_recall: 0.2572 - val_accuracy: 0.5145 - lr: 0.0063\n",
            "Epoch 22/200\n",
            "321/321 [==============================] - 46s 144ms/step - loss: 0.9381 - auc: 0.8257 - precision: 0.7152 - recall: 0.2888 - accuracy: 0.5384 - val_loss: 1.1552 - val_auc: 0.8212 - val_precision: 0.5848 - val_recall: 0.4206 - val_accuracy: 0.5278 - lr: 0.0062\n",
            "Epoch 23/200\n",
            "321/321 [==============================] - 46s 144ms/step - loss: 0.9445 - auc: 0.8249 - precision: 0.6924 - recall: 0.3060 - accuracy: 0.5417 - val_loss: 1.7943 - val_auc: 0.8059 - val_precision: 0.5104 - val_recall: 0.4988 - val_accuracy: 0.5035 - lr: 0.0060\n",
            "Epoch 24/200\n",
            "321/321 [==============================] - 46s 144ms/step - loss: 0.9473 - auc: 0.8226 - precision: 0.6932 - recall: 0.2988 - accuracy: 0.5392 - val_loss: 2.2839 - val_auc: 0.7921 - val_precision: 0.5012 - val_recall: 0.5004 - val_accuracy: 0.5012 - lr: 0.0059\n",
            "Epoch 25/200\n",
            "321/321 [==============================] - 46s 144ms/step - loss: 0.9357 - auc: 0.8258 - precision: 0.7185 - recall: 0.2806 - accuracy: 0.5343 - val_loss: 1.1276 - val_auc: 0.8254 - val_precision: 0.6114 - val_recall: 0.4120 - val_accuracy: 0.5238 - lr: 0.0058\n",
            "Epoch 26/200\n",
            "321/321 [==============================] - 45s 141ms/step - loss: 0.9147 - auc: 0.8340 - precision: 0.7258 - recall: 0.2997 - accuracy: 0.5470 - val_loss: 2.7439 - val_auc: 0.7671 - val_precision: 0.5004 - val_recall: 0.5004 - val_accuracy: 0.5004 - lr: 0.0056\n",
            "Epoch 27/200\n",
            "321/321 [==============================] - 46s 143ms/step - loss: 0.9072 - auc: 0.8372 - precision: 0.7291 - recall: 0.3027 - accuracy: 0.5507 - val_loss: 1.1008 - val_auc: 0.8261 - val_precision: 0.5370 - val_recall: 0.4762 - val_accuracy: 0.5192 - lr: 0.0055\n",
            "Epoch 28/200\n",
            "321/321 [==============================] - 46s 144ms/step - loss: 0.9044 - auc: 0.8371 - precision: 0.7433 - recall: 0.2906 - accuracy: 0.5433 - val_loss: 1.0135 - val_auc: 0.8289 - val_precision: 0.6465 - val_recall: 0.3761 - val_accuracy: 0.5238 - lr: 0.0054\n",
            "Epoch 29/200\n",
            "321/321 [==============================] - 46s 144ms/step - loss: 0.9072 - auc: 0.8375 - precision: 0.7270 - recall: 0.2943 - accuracy: 0.5526 - val_loss: 2.0840 - val_auc: 0.7994 - val_precision: 0.5008 - val_recall: 0.5004 - val_accuracy: 0.5004 - lr: 0.0052\n",
            "Epoch 30/200\n",
            "321/321 [==============================] - 46s 145ms/step - loss: 0.9023 - auc: 0.8397 - precision: 0.7420 - recall: 0.2982 - accuracy: 0.5534 - val_loss: 1.1010 - val_auc: 0.7510 - val_precision: 0.5766 - val_recall: 0.1118 - val_accuracy: 0.4128 - lr: 0.0051\n",
            "Epoch 31/200\n",
            "321/321 [==============================] - 46s 142ms/step - loss: 0.9021 - auc: 0.8395 - precision: 0.7265 - recall: 0.2941 - accuracy: 0.5493 - val_loss: 1.3282 - val_auc: 0.8225 - val_precision: 0.5358 - val_recall: 0.4449 - val_accuracy: 0.5066 - lr: 0.0050\n",
            "Epoch 32/200\n",
            "321/321 [==============================] - 46s 143ms/step - loss: 0.8978 - auc: 0.8397 - precision: 0.7456 - recall: 0.2828 - accuracy: 0.5495 - val_loss: 1.1615 - val_auc: 0.8210 - val_precision: 0.6230 - val_recall: 0.3862 - val_accuracy: 0.5192 - lr: 0.0049\n",
            "Epoch 33/200\n",
            "321/321 [==============================] - 46s 144ms/step - loss: 0.8990 - auc: 0.8407 - precision: 0.7448 - recall: 0.2822 - accuracy: 0.5489 - val_loss: 0.9964 - val_auc: 0.8306 - val_precision: 0.6585 - val_recall: 0.3378 - val_accuracy: 0.5121 - lr: 0.0048\n",
            "Epoch 34/200\n",
            "321/321 [==============================] - 46s 144ms/step - loss: 0.8929 - auc: 0.8417 - precision: 0.7208 - recall: 0.3070 - accuracy: 0.5477 - val_loss: 1.0455 - val_auc: 0.8255 - val_precision: 0.5804 - val_recall: 0.4206 - val_accuracy: 0.5098 - lr: 0.0047\n",
            "Epoch 35/200\n",
            "321/321 [==============================] - 47s 145ms/step - loss: 0.8970 - auc: 0.8404 - precision: 0.7496 - recall: 0.2906 - accuracy: 0.5518 - val_loss: 0.9600 - val_auc: 0.8250 - val_precision: 0.8835 - val_recall: 0.1720 - val_accuracy: 0.5489 - lr: 0.0046\n",
            "Epoch 36/200\n",
            "321/321 [==============================] - 46s 142ms/step - loss: 0.8909 - auc: 0.8439 - precision: 0.7186 - recall: 0.3142 - accuracy: 0.5587 - val_loss: 0.9191 - val_auc: 0.8446 - val_precision: 0.6990 - val_recall: 0.3432 - val_accuracy: 0.5598 - lr: 0.0045\n",
            "Epoch 37/200\n",
            "321/321 [==============================] - 46s 144ms/step - loss: 0.8915 - auc: 0.8447 - precision: 0.7484 - recall: 0.3033 - accuracy: 0.5628 - val_loss: 0.8913 - val_auc: 0.8421 - val_precision: 0.6883 - val_recall: 0.3229 - val_accuracy: 0.5356 - lr: 0.0044\n",
            "Epoch 38/200\n",
            "321/321 [==============================] - 46s 144ms/step - loss: 0.8904 - auc: 0.8440 - precision: 0.7402 - recall: 0.3081 - accuracy: 0.5624 - val_loss: 0.9471 - val_auc: 0.8375 - val_precision: 0.6686 - val_recall: 0.3518 - val_accuracy: 0.5496 - lr: 0.0043\n",
            "Epoch 39/200\n",
            "321/321 [==============================] - 46s 144ms/step - loss: 0.8828 - auc: 0.8458 - precision: 0.7393 - recall: 0.3035 - accuracy: 0.5600 - val_loss: 1.7403 - val_auc: 0.8018 - val_precision: 0.5370 - val_recall: 0.4597 - val_accuracy: 0.5160 - lr: 0.0042\n",
            "Epoch 40/200\n",
            "321/321 [==============================] - 46s 142ms/step - loss: 0.8885 - auc: 0.8444 - precision: 0.7129 - recall: 0.3103 - accuracy: 0.5599 - val_loss: 0.9332 - val_auc: 0.8325 - val_precision: 0.8338 - val_recall: 0.2432 - val_accuracy: 0.5473 - lr: 0.0041\n",
            "Epoch 41/200\n",
            "321/321 [==============================] - 45s 142ms/step - loss: 0.8872 - auc: 0.8450 - precision: 0.7358 - recall: 0.3062 - accuracy: 0.5600 - val_loss: 0.8850 - val_auc: 0.8448 - val_precision: 0.7453 - val_recall: 0.2768 - val_accuracy: 0.5418 - lr: 0.0040\n",
            "Epoch 42/200\n",
            "321/321 [==============================] - 45s 141ms/step - loss: 0.8810 - auc: 0.8462 - precision: 0.7315 - recall: 0.3160 - accuracy: 0.5534 - val_loss: 1.2922 - val_auc: 0.8237 - val_precision: 0.5652 - val_recall: 0.4339 - val_accuracy: 0.5160 - lr: 0.0039\n",
            "Epoch 43/200\n",
            "321/321 [==============================] - 46s 144ms/step - loss: 0.8879 - auc: 0.8439 - precision: 0.7376 - recall: 0.2958 - accuracy: 0.5565 - val_loss: 1.1458 - val_auc: 0.8281 - val_precision: 0.6067 - val_recall: 0.4136 - val_accuracy: 0.5246 - lr: 0.0038\n",
            "Epoch 44/200\n",
            "321/321 [==============================] - 46s 144ms/step - loss: 0.8803 - auc: 0.8474 - precision: 0.7360 - recall: 0.3158 - accuracy: 0.5649 - val_loss: 0.8796 - val_auc: 0.8483 - val_precision: 0.7515 - val_recall: 0.3002 - val_accuracy: 0.5512 - lr: 0.0037\n",
            "Epoch 45/200\n",
            "321/321 [==============================] - 46s 144ms/step - loss: 0.8768 - auc: 0.8480 - precision: 0.7425 - recall: 0.3109 - accuracy: 0.5659 - val_loss: 0.9050 - val_auc: 0.8443 - val_precision: 0.7722 - val_recall: 0.2783 - val_accuracy: 0.5590 - lr: 0.0036\n",
            "Epoch 46/200\n",
            "321/321 [==============================] - 46s 143ms/step - loss: 0.8825 - auc: 0.8466 - precision: 0.7506 - recall: 0.3038 - accuracy: 0.5608 - val_loss: 0.9659 - val_auc: 0.8398 - val_precision: 0.6376 - val_recall: 0.4238 - val_accuracy: 0.5512 - lr: 0.0035\n",
            "Epoch 47/200\n",
            "321/321 [==============================] - 45s 142ms/step - loss: 0.8806 - auc: 0.8472 - precision: 0.7293 - recall: 0.3124 - accuracy: 0.5653 - val_loss: 0.8921 - val_auc: 0.8482 - val_precision: 0.8225 - val_recall: 0.2572 - val_accuracy: 0.5653 - lr: 0.0035\n",
            "Epoch 48/200\n",
            "321/321 [==============================] - 46s 144ms/step - loss: 0.8789 - auc: 0.8481 - precision: 0.7291 - recall: 0.3122 - accuracy: 0.5622 - val_loss: 0.8987 - val_auc: 0.8439 - val_precision: 0.6475 - val_recall: 0.4136 - val_accuracy: 0.5504 - lr: 0.0034\n",
            "Epoch 49/200\n",
            "321/321 [==============================] - 46s 143ms/step - loss: 0.8816 - auc: 0.8464 - precision: 0.7343 - recall: 0.3158 - accuracy: 0.5591 - val_loss: 1.0754 - val_auc: 0.7596 - val_precision: 0.6013 - val_recall: 0.1439 - val_accuracy: 0.4629 - lr: 0.0033\n",
            "Epoch 50/200\n",
            "321/321 [==============================] - 46s 144ms/step - loss: 0.8805 - auc: 0.8466 - precision: 0.7365 - recall: 0.3035 - accuracy: 0.5573 - val_loss: 0.9610 - val_auc: 0.8305 - val_precision: 0.6293 - val_recall: 0.3901 - val_accuracy: 0.5121 - lr: 0.0032\n",
            "Epoch 51/200\n",
            "321/321 [==============================] - 45s 141ms/step - loss: 0.8712 - auc: 0.8511 - precision: 0.7325 - recall: 0.3316 - accuracy: 0.5690 - val_loss: 0.8970 - val_auc: 0.8405 - val_precision: 0.6424 - val_recall: 0.3651 - val_accuracy: 0.5324 - lr: 0.0032\n",
            "Epoch 52/200\n",
            "321/321 [==============================] - 46s 144ms/step - loss: 0.8780 - auc: 0.8481 - precision: 0.7238 - recall: 0.3189 - accuracy: 0.5612 - val_loss: 0.9251 - val_auc: 0.8465 - val_precision: 0.6895 - val_recall: 0.3855 - val_accuracy: 0.5622 - lr: 0.0031\n",
            "Epoch 53/200\n",
            "321/321 [==============================] - 46s 144ms/step - loss: 0.8664 - auc: 0.8542 - precision: 0.7217 - recall: 0.3449 - accuracy: 0.5772 - val_loss: 0.8916 - val_auc: 0.8483 - val_precision: 0.6630 - val_recall: 0.3815 - val_accuracy: 0.5536 - lr: 0.0030\n",
            "Epoch 54/200\n",
            "321/321 [==============================] - 46s 144ms/step - loss: 0.8679 - auc: 0.8508 - precision: 0.7231 - recall: 0.3304 - accuracy: 0.5622 - val_loss: 0.8748 - val_auc: 0.8505 - val_precision: 0.6627 - val_recall: 0.3933 - val_accuracy: 0.5551 - lr: 0.0030\n",
            "Epoch 55/200\n",
            "321/321 [==============================] - 45s 140ms/step - loss: 0.8706 - auc: 0.8517 - precision: 0.7340 - recall: 0.3179 - accuracy: 0.5643 - val_loss: 1.0338 - val_auc: 0.8365 - val_precision: 0.6162 - val_recall: 0.4167 - val_accuracy: 0.5450 - lr: 0.0029\n",
            "Epoch 56/200\n",
            "321/321 [==============================] - 46s 145ms/step - loss: 0.8682 - auc: 0.8521 - precision: 0.7329 - recall: 0.3285 - accuracy: 0.5733 - val_loss: 0.8669 - val_auc: 0.8527 - val_precision: 0.7254 - val_recall: 0.3636 - val_accuracy: 0.5590 - lr: 0.0028\n",
            "Epoch 57/200\n",
            "321/321 [==============================] - 46s 144ms/step - loss: 0.8662 - auc: 0.8523 - precision: 0.7228 - recall: 0.3345 - accuracy: 0.5641 - val_loss: 1.0131 - val_auc: 0.8349 - val_precision: 0.6330 - val_recall: 0.3870 - val_accuracy: 0.5481 - lr: 0.0028\n",
            "Epoch 58/200\n",
            "321/321 [==============================] - 46s 144ms/step - loss: 0.8723 - auc: 0.8497 - precision: 0.7265 - recall: 0.3060 - accuracy: 0.5608 - val_loss: 1.0003 - val_auc: 0.8310 - val_precision: 0.5797 - val_recall: 0.4066 - val_accuracy: 0.5098 - lr: 0.0027\n",
            "Epoch 59/200\n",
            "321/321 [==============================] - 45s 141ms/step - loss: 0.8633 - auc: 0.8552 - precision: 0.7260 - recall: 0.3409 - accuracy: 0.5729 - val_loss: 0.8733 - val_auc: 0.8501 - val_precision: 0.6729 - val_recall: 0.3651 - val_accuracy: 0.5590 - lr: 0.0026\n",
            "Epoch 60/200\n",
            "321/321 [==============================] - 46s 144ms/step - loss: 0.8668 - auc: 0.8529 - precision: 0.7334 - recall: 0.3292 - accuracy: 0.5688 - val_loss: 0.8843 - val_auc: 0.8447 - val_precision: 0.6824 - val_recall: 0.3393 - val_accuracy: 0.5395 - lr: 0.0026\n",
            "Epoch 61/200\n",
            "321/321 [==============================] - 46s 144ms/step - loss: 0.8554 - auc: 0.8548 - precision: 0.7139 - recall: 0.3294 - accuracy: 0.5640 - val_loss: 0.9377 - val_auc: 0.8455 - val_precision: 0.6944 - val_recall: 0.3393 - val_accuracy: 0.5668 - lr: 0.0025\n",
            "Epoch 62/200\n",
            "321/321 [==============================] - 46s 145ms/step - loss: 0.8556 - auc: 0.8568 - precision: 0.7142 - recall: 0.3441 - accuracy: 0.5741 - val_loss: 1.0030 - val_auc: 0.8330 - val_precision: 0.5965 - val_recall: 0.4206 - val_accuracy: 0.5285 - lr: 0.0025\n",
            "Epoch 63/200\n",
            "321/321 [==============================] - 46s 145ms/step - loss: 0.8552 - auc: 0.8556 - precision: 0.7208 - recall: 0.3452 - accuracy: 0.5706 - val_loss: 1.0154 - val_auc: 0.7870 - val_precision: 0.7455 - val_recall: 0.0962 - val_accuracy: 0.4644 - lr: 0.0024\n",
            "Epoch 64/200\n",
            "321/321 [==============================] - 45s 141ms/step - loss: 0.8487 - auc: 0.8583 - precision: 0.7140 - recall: 0.3525 - accuracy: 0.5733 - val_loss: 0.9119 - val_auc: 0.8445 - val_precision: 0.6667 - val_recall: 0.3769 - val_accuracy: 0.5512 - lr: 0.0023\n",
            "Epoch 65/200\n",
            "321/321 [==============================] - 46s 144ms/step - loss: 0.8605 - auc: 0.8551 - precision: 0.7333 - recall: 0.3437 - accuracy: 0.5790 - val_loss: 1.1381 - val_auc: 0.7275 - val_precision: 0.3149 - val_recall: 0.1157 - val_accuracy: 0.3385 - lr: 0.0023\n",
            "Epoch 66/200\n",
            "321/321 [==============================] - 46s 144ms/step - loss: 0.8540 - auc: 0.8594 - precision: 0.7035 - recall: 0.3628 - accuracy: 0.5856 - val_loss: 0.8829 - val_auc: 0.8462 - val_precision: 0.6792 - val_recall: 0.3378 - val_accuracy: 0.5481 - lr: 0.0022\n",
            "Epoch 67/200\n",
            "321/321 [==============================] - 46s 144ms/step - loss: 0.8485 - auc: 0.8622 - precision: 0.6998 - recall: 0.3933 - accuracy: 0.5956 - val_loss: 0.9932 - val_auc: 0.8380 - val_precision: 0.6002 - val_recall: 0.4449 - val_accuracy: 0.5410 - lr: 0.0022\n",
            "Epoch 68/200\n",
            "321/321 [==============================] - 46s 144ms/step - loss: 0.8511 - auc: 0.8600 - precision: 0.6930 - recall: 0.3831 - accuracy: 0.5921 - val_loss: 0.9110 - val_auc: 0.8460 - val_precision: 0.6615 - val_recall: 0.3636 - val_accuracy: 0.5434 - lr: 0.0021\n",
            "Epoch 69/200\n",
            "321/321 [==============================] - 46s 142ms/step - loss: 0.8522 - auc: 0.8578 - precision: 0.7105 - recall: 0.3589 - accuracy: 0.5727 - val_loss: 0.8767 - val_auc: 0.8534 - val_precision: 0.6876 - val_recall: 0.4027 - val_accuracy: 0.5723 - lr: 0.0021\n",
            "Epoch 70/200\n",
            "321/321 [==============================] - 45s 142ms/step - loss: 0.8505 - auc: 0.8589 - precision: 0.7154 - recall: 0.3657 - accuracy: 0.5780 - val_loss: 1.2585 - val_auc: 0.8216 - val_precision: 0.6076 - val_recall: 0.4261 - val_accuracy: 0.5442 - lr: 0.0020\n",
            "Epoch 71/200\n",
            "321/321 [==============================] - 46s 144ms/step - loss: 0.8375 - auc: 0.8628 - precision: 0.7026 - recall: 0.3769 - accuracy: 0.5882 - val_loss: 0.9072 - val_auc: 0.8442 - val_precision: 0.6294 - val_recall: 0.4050 - val_accuracy: 0.5723 - lr: 0.0020\n",
            "Epoch 72/200\n",
            "321/321 [==============================] - 46s 145ms/step - loss: 0.8429 - auc: 0.8613 - precision: 0.6929 - recall: 0.3900 - accuracy: 0.5852 - val_loss: 0.8887 - val_auc: 0.8487 - val_precision: 0.6845 - val_recall: 0.3800 - val_accuracy: 0.5614 - lr: 0.0019\n",
            "Epoch 73/200\n",
            "321/321 [==============================] - 46s 145ms/step - loss: 0.8417 - auc: 0.8610 - precision: 0.6803 - recall: 0.3923 - accuracy: 0.5776 - val_loss: 0.9990 - val_auc: 0.8389 - val_precision: 0.6152 - val_recall: 0.4113 - val_accuracy: 0.5536 - lr: 0.0019\n",
            "Epoch 74/200\n",
            "321/321 [==============================] - 47s 146ms/step - loss: 0.8412 - auc: 0.8624 - precision: 0.7031 - recall: 0.3880 - accuracy: 0.5850 - val_loss: 1.3605 - val_auc: 0.8250 - val_precision: 0.5450 - val_recall: 0.4973 - val_accuracy: 0.5278 - lr: 0.0019\n",
            "Epoch 75/200\n",
            "321/321 [==============================] - 46s 142ms/step - loss: 0.8233 - auc: 0.8698 - precision: 0.7036 - recall: 0.4278 - accuracy: 0.5997 - val_loss: 0.9787 - val_auc: 0.8418 - val_precision: 0.6144 - val_recall: 0.4472 - val_accuracy: 0.5387 - lr: 0.0018\n",
            "Epoch 76/200\n",
            "321/321 [==============================] - 46s 145ms/step - loss: 0.8404 - auc: 0.8619 - precision: 0.6902 - recall: 0.3919 - accuracy: 0.5794 - val_loss: 0.8711 - val_auc: 0.8538 - val_precision: 0.7145 - val_recall: 0.3659 - val_accuracy: 0.5794 - lr: 0.0018\n",
            "Epoch 77/200\n",
            "321/321 [==============================] - 46s 144ms/step - loss: 0.8199 - auc: 0.8690 - precision: 0.6810 - recall: 0.4189 - accuracy: 0.5964 - val_loss: 1.3250 - val_auc: 0.8237 - val_precision: 0.5310 - val_recall: 0.4824 - val_accuracy: 0.5145 - lr: 0.0017\n",
            "Epoch 78/200\n",
            "321/321 [==============================] - 46s 144ms/step - loss: 0.8269 - auc: 0.8681 - precision: 0.6959 - recall: 0.4353 - accuracy: 0.5975 - val_loss: 1.2175 - val_auc: 0.8298 - val_precision: 0.5427 - val_recall: 0.4871 - val_accuracy: 0.5285 - lr: 0.0017\n",
            "Epoch 79/200\n",
            "321/321 [==============================] - 47s 145ms/step - loss: 0.8272 - auc: 0.8675 - precision: 0.6995 - recall: 0.4150 - accuracy: 0.5923 - val_loss: 0.8970 - val_auc: 0.8495 - val_precision: 0.5879 - val_recall: 0.4550 - val_accuracy: 0.5465 - lr: 0.0017\n",
            "Epoch 80/200\n",
            "321/321 [==============================] - 46s 142ms/step - loss: 0.8208 - auc: 0.8697 - precision: 0.7000 - recall: 0.4310 - accuracy: 0.5979 - val_loss: 1.0798 - val_auc: 0.8301 - val_precision: 0.5830 - val_recall: 0.4339 - val_accuracy: 0.5137 - lr: 0.0016\n",
            "Epoch 81/200\n",
            "321/321 [==============================] - 46s 144ms/step - loss: 0.8233 - auc: 0.8680 - precision: 0.6904 - recall: 0.4316 - accuracy: 0.5956 - val_loss: 0.9050 - val_auc: 0.8429 - val_precision: 0.6355 - val_recall: 0.3722 - val_accuracy: 0.5371 - lr: 0.0016\n",
            "Epoch 82/200\n",
            "321/321 [==============================] - 46s 144ms/step - loss: 0.8120 - auc: 0.8713 - precision: 0.7011 - recall: 0.4278 - accuracy: 0.5999 - val_loss: 1.0279 - val_auc: 0.8392 - val_precision: 0.5608 - val_recall: 0.4871 - val_accuracy: 0.5278 - lr: 0.0015\n",
            "Epoch 83/200\n",
            "321/321 [==============================] - 45s 142ms/step - loss: 0.8248 - auc: 0.8680 - precision: 0.6935 - recall: 0.4308 - accuracy: 0.5927 - val_loss: 0.9098 - val_auc: 0.8430 - val_precision: 0.6447 - val_recall: 0.3675 - val_accuracy: 0.5645 - lr: 0.0015\n",
            "Epoch 84/200\n",
            "321/321 [==============================] - 46s 143ms/step - loss: 0.8201 - auc: 0.8699 - precision: 0.6939 - recall: 0.4388 - accuracy: 0.6011 - val_loss: 1.1863 - val_auc: 0.8324 - val_precision: 0.5635 - val_recall: 0.4754 - val_accuracy: 0.5324 - lr: 0.0015\n",
            "Epoch 85/200\n",
            "321/321 [==============================] - 46s 142ms/step - loss: 0.8213 - auc: 0.8693 - precision: 0.6925 - recall: 0.4398 - accuracy: 0.5962 - val_loss: 0.8680 - val_auc: 0.8555 - val_precision: 0.6842 - val_recall: 0.3862 - val_accuracy: 0.5762 - lr: 0.0014\n",
            "Epoch 86/200\n",
            "321/321 [==============================] - 45s 139ms/step - loss: 0.8147 - auc: 0.8703 - precision: 0.6893 - recall: 0.4271 - accuracy: 0.5944 - val_loss: 1.0222 - val_auc: 0.8395 - val_precision: 0.6123 - val_recall: 0.4347 - val_accuracy: 0.5442 - lr: 0.0014\n",
            "Epoch 87/200\n",
            "321/321 [==============================] - 45s 141ms/step - loss: 0.8255 - auc: 0.8689 - precision: 0.6870 - recall: 0.4376 - accuracy: 0.6040 - val_loss: 0.9279 - val_auc: 0.8517 - val_precision: 0.6603 - val_recall: 0.4332 - val_accuracy: 0.5786 - lr: 0.0014\n",
            "Epoch 88/200\n",
            "321/321 [==============================] - 45s 140ms/step - loss: 0.8240 - auc: 0.8679 - precision: 0.6930 - recall: 0.4214 - accuracy: 0.5970 - val_loss: 0.9339 - val_auc: 0.8452 - val_precision: 0.6454 - val_recall: 0.4199 - val_accuracy: 0.5418 - lr: 0.0013\n",
            "Epoch 89/200\n",
            "321/321 [==============================] - 46s 142ms/step - loss: 0.8163 - auc: 0.8723 - precision: 0.6962 - recall: 0.4435 - accuracy: 0.6048 - val_loss: 0.9520 - val_auc: 0.8406 - val_precision: 0.6299 - val_recall: 0.4152 - val_accuracy: 0.5410 - lr: 0.0013\n",
            "Epoch 90/200\n",
            "321/321 [==============================] - 46s 143ms/step - loss: 0.8119 - auc: 0.8723 - precision: 0.6964 - recall: 0.4480 - accuracy: 0.6038 - val_loss: 1.0012 - val_auc: 0.8405 - val_precision: 0.6137 - val_recall: 0.4410 - val_accuracy: 0.5395 - lr: 0.0013\n",
            "Epoch 91/200\n",
            "321/321 [==============================] - 46s 143ms/step - loss: 0.8130 - auc: 0.8739 - precision: 0.6963 - recall: 0.4530 - accuracy: 0.6093 - val_loss: 0.8800 - val_auc: 0.8519 - val_precision: 0.6684 - val_recall: 0.3987 - val_accuracy: 0.5614 - lr: 0.0013\n",
            "Epoch 92/200\n",
            "321/321 [==============================] - 45s 141ms/step - loss: 0.8040 - auc: 0.8763 - precision: 0.6997 - recall: 0.4573 - accuracy: 0.6065 - val_loss: 0.9048 - val_auc: 0.8455 - val_precision: 0.6484 - val_recall: 0.4066 - val_accuracy: 0.5465 - lr: 0.0012\n",
            "Epoch 93/200\n",
            "321/321 [==============================] - 45s 141ms/step - loss: 0.8112 - auc: 0.8735 - precision: 0.7019 - recall: 0.4525 - accuracy: 0.6055 - val_loss: 0.9178 - val_auc: 0.8439 - val_precision: 0.6411 - val_recall: 0.4050 - val_accuracy: 0.5528 - lr: 0.0012\n",
            "Epoch 94/200\n",
            "321/321 [==============================] - 45s 141ms/step - loss: 0.7918 - auc: 0.8801 - precision: 0.7046 - recall: 0.4718 - accuracy: 0.6141 - val_loss: 1.0862 - val_auc: 0.8317 - val_precision: 0.5886 - val_recall: 0.4441 - val_accuracy: 0.5340 - lr: 0.0012\n",
            "Epoch 95/200\n",
            "321/321 [==============================] - 46s 144ms/step - loss: 0.8121 - auc: 0.8737 - precision: 0.6951 - recall: 0.4532 - accuracy: 0.6091 - val_loss: 0.9583 - val_auc: 0.8434 - val_precision: 0.6257 - val_recall: 0.4300 - val_accuracy: 0.5395 - lr: 0.0011\n",
            "Epoch 96/200\n",
            "321/321 [==============================] - 46s 143ms/step - loss: 0.8036 - auc: 0.8768 - precision: 0.7032 - recall: 0.4741 - accuracy: 0.6132 - val_loss: 0.9022 - val_auc: 0.8457 - val_precision: 0.6928 - val_recall: 0.3597 - val_accuracy: 0.5622 - lr: 0.0011\n",
            "Epoch 97/200\n",
            "321/321 [==============================] - 46s 143ms/step - loss: 0.7901 - auc: 0.8804 - precision: 0.7036 - recall: 0.4669 - accuracy: 0.6173 - val_loss: 0.9309 - val_auc: 0.8431 - val_precision: 0.6171 - val_recall: 0.4120 - val_accuracy: 0.5489 - lr: 0.0011\n",
            "Epoch 98/200\n",
            "321/321 [==============================] - 46s 143ms/step - loss: 0.7933 - auc: 0.8792 - precision: 0.6919 - recall: 0.4812 - accuracy: 0.6137 - val_loss: 0.9263 - val_auc: 0.8453 - val_precision: 0.6148 - val_recall: 0.4292 - val_accuracy: 0.5371 - lr: 0.0011\n",
            "Epoch 99/200\n",
            "321/321 [==============================] - 46s 144ms/step - loss: 0.8003 - auc: 0.8767 - precision: 0.6916 - recall: 0.4669 - accuracy: 0.6095 - val_loss: 0.9102 - val_auc: 0.8493 - val_precision: 0.6407 - val_recall: 0.4183 - val_accuracy: 0.5520 - lr: 0.0010\n",
            "Epoch 100/200\n",
            "321/321 [==============================] - 47s 145ms/step - loss: 0.7971 - auc: 0.8784 - precision: 0.6967 - recall: 0.4700 - accuracy: 0.6180 - val_loss: 0.9171 - val_auc: 0.8439 - val_precision: 0.6502 - val_recall: 0.3808 - val_accuracy: 0.5465 - lr: 0.0010\n",
            "Epoch 101/200\n",
            "321/321 [==============================] - 46s 143ms/step - loss: 0.7896 - auc: 0.8800 - precision: 0.6979 - recall: 0.4687 - accuracy: 0.6178 - val_loss: 0.9142 - val_auc: 0.8441 - val_precision: 0.6308 - val_recall: 0.3901 - val_accuracy: 0.5496 - lr: 0.0010\n",
            "Epoch 102/200\n",
            "321/321 [==============================] - 46s 144ms/step - loss: 0.8138 - auc: 0.8729 - precision: 0.7077 - recall: 0.4554 - accuracy: 0.6079 - val_loss: 0.9566 - val_auc: 0.8426 - val_precision: 0.6311 - val_recall: 0.4253 - val_accuracy: 0.5410 - lr: 9.7724e-04\n",
            "Epoch 103/200\n",
            "321/321 [==============================] - 46s 143ms/step - loss: 0.7930 - auc: 0.8792 - precision: 0.7002 - recall: 0.4679 - accuracy: 0.6098 - val_loss: 0.9587 - val_auc: 0.8433 - val_precision: 0.6175 - val_recall: 0.4191 - val_accuracy: 0.5504 - lr: 9.5499e-04\n",
            "Epoch 104/200\n",
            "321/321 [==============================] - 46s 143ms/step - loss: 0.7982 - auc: 0.8794 - precision: 0.7002 - recall: 0.4911 - accuracy: 0.6223 - val_loss: 1.0356 - val_auc: 0.8378 - val_precision: 0.5799 - val_recall: 0.4683 - val_accuracy: 0.5387 - lr: 9.3325e-04\n",
            "Epoch 105/200\n",
            "321/321 [==============================] - 46s 144ms/step - loss: 0.7876 - auc: 0.8818 - precision: 0.6959 - recall: 0.4880 - accuracy: 0.6300 - val_loss: 0.9536 - val_auc: 0.8432 - val_precision: 0.6254 - val_recall: 0.4230 - val_accuracy: 0.5512 - lr: 9.1201e-04\n",
            "Epoch 106/200\n",
            "321/321 [==============================] - 46s 143ms/step - loss: 0.7882 - auc: 0.8821 - precision: 0.7030 - recall: 0.5007 - accuracy: 0.6188 - val_loss: 0.9820 - val_auc: 0.8423 - val_precision: 0.6130 - val_recall: 0.4433 - val_accuracy: 0.5410 - lr: 8.9125e-04\n",
            "Epoch 107/200\n",
            "321/321 [==============================] - 46s 143ms/step - loss: 0.7843 - auc: 0.8820 - precision: 0.7024 - recall: 0.4858 - accuracy: 0.6280 - val_loss: 0.9680 - val_auc: 0.8414 - val_precision: 0.6209 - val_recall: 0.4418 - val_accuracy: 0.5442 - lr: 8.7096e-04\n",
            "Epoch 108/200\n",
            "321/321 [==============================] - 45s 141ms/step - loss: 0.7820 - auc: 0.8830 - precision: 0.6956 - recall: 0.4878 - accuracy: 0.6247 - val_loss: 0.9408 - val_auc: 0.8371 - val_precision: 0.6583 - val_recall: 0.3901 - val_accuracy: 0.5442 - lr: 8.5114e-04\n",
            "Epoch 109/200\n",
            "321/321 [==============================] - 45s 141ms/step - loss: 0.7860 - auc: 0.8832 - precision: 0.6980 - recall: 0.4878 - accuracy: 0.6253 - val_loss: 1.0846 - val_auc: 0.8299 - val_precision: 0.5778 - val_recall: 0.4558 - val_accuracy: 0.5238 - lr: 8.3176e-04\n",
            "Epoch 110/200\n",
            "321/321 [==============================] - 45s 141ms/step - loss: 0.7948 - auc: 0.8805 - precision: 0.7038 - recall: 0.4896 - accuracy: 0.6194 - val_loss: 1.0442 - val_auc: 0.8344 - val_precision: 0.5912 - val_recall: 0.4433 - val_accuracy: 0.5348 - lr: 8.1283e-04\n",
            "Epoch 111/200\n",
            "321/321 [==============================] - 45s 141ms/step - loss: 0.7902 - auc: 0.8814 - precision: 0.7011 - recall: 0.4878 - accuracy: 0.6229 - val_loss: 0.9577 - val_auc: 0.8429 - val_precision: 0.6403 - val_recall: 0.4246 - val_accuracy: 0.5450 - lr: 7.9433e-04\n",
            "Epoch 112/200\n",
            "321/321 [==============================] - 46s 142ms/step - loss: 0.7932 - auc: 0.8822 - precision: 0.7118 - recall: 0.4954 - accuracy: 0.6307 - val_loss: 0.9942 - val_auc: 0.8347 - val_precision: 0.6118 - val_recall: 0.4128 - val_accuracy: 0.5364 - lr: 7.7625e-04\n",
            "Epoch 113/200\n",
            "321/321 [==============================] - 45s 141ms/step - loss: 0.7789 - auc: 0.8844 - precision: 0.7019 - recall: 0.4993 - accuracy: 0.6233 - val_loss: 0.9295 - val_auc: 0.8432 - val_precision: 0.6584 - val_recall: 0.3948 - val_accuracy: 0.5403 - lr: 7.5858e-04\n",
            "Epoch 114/200\n",
            "321/321 [==============================] - 46s 143ms/step - loss: 0.7759 - auc: 0.8856 - precision: 0.7009 - recall: 0.4997 - accuracy: 0.6268 - val_loss: 0.9397 - val_auc: 0.8426 - val_precision: 0.6165 - val_recall: 0.4097 - val_accuracy: 0.5434 - lr: 7.4131e-04\n",
            "Epoch 115/200\n",
            "321/321 [==============================] - 46s 144ms/step - loss: 0.7768 - auc: 0.8843 - precision: 0.7038 - recall: 0.4956 - accuracy: 0.6173 - val_loss: 1.0178 - val_auc: 0.8381 - val_precision: 0.5996 - val_recall: 0.4519 - val_accuracy: 0.5418 - lr: 7.2444e-04\n",
            "Epoch 116/200\n",
            "321/321 [==============================] - 46s 143ms/step - loss: 0.7815 - auc: 0.8834 - precision: 0.7001 - recall: 0.4946 - accuracy: 0.6231 - val_loss: 0.9020 - val_auc: 0.8504 - val_precision: 0.6658 - val_recall: 0.4222 - val_accuracy: 0.5590 - lr: 7.0795e-04\n",
            "Epoch 117/200\n",
            "321/321 [==============================] - 47s 146ms/step - loss: 0.7649 - auc: 0.8890 - precision: 0.7103 - recall: 0.5112 - accuracy: 0.6366 - val_loss: 0.9001 - val_auc: 0.8523 - val_precision: 0.6663 - val_recall: 0.4449 - val_accuracy: 0.5637 - lr: 6.9183e-04\n",
            "Epoch 118/200\n",
            "321/321 [==============================] - 46s 144ms/step - loss: 0.7867 - auc: 0.8825 - precision: 0.7034 - recall: 0.4974 - accuracy: 0.6221 - val_loss: 0.9600 - val_auc: 0.8485 - val_precision: 0.6407 - val_recall: 0.4629 - val_accuracy: 0.5629 - lr: 6.7608e-04\n",
            "Epoch 119/200\n",
            "321/321 [==============================] - 46s 142ms/step - loss: 0.7886 - auc: 0.8816 - precision: 0.6939 - recall: 0.4847 - accuracy: 0.6202 - val_loss: 0.9522 - val_auc: 0.8403 - val_precision: 0.6240 - val_recall: 0.4073 - val_accuracy: 0.5426 - lr: 6.6069e-04\n",
            "Epoch 120/200\n",
            "321/321 [==============================] - 45s 142ms/step - loss: 0.7807 - auc: 0.8842 - precision: 0.7084 - recall: 0.4944 - accuracy: 0.6278 - val_loss: 0.9434 - val_auc: 0.8470 - val_precision: 0.6448 - val_recall: 0.4300 - val_accuracy: 0.5653 - lr: 6.4565e-04\n",
            "Epoch 121/200\n",
            "321/321 [==============================] - 46s 142ms/step - loss: 0.7885 - auc: 0.8814 - precision: 0.7014 - recall: 0.4968 - accuracy: 0.6184 - val_loss: 0.9961 - val_auc: 0.8388 - val_precision: 0.6030 - val_recall: 0.4394 - val_accuracy: 0.5496 - lr: 6.3096e-04\n",
            "Epoch 122/200\n",
            "321/321 [==============================] - 45s 142ms/step - loss: 0.7728 - auc: 0.8868 - precision: 0.7076 - recall: 0.5046 - accuracy: 0.6300 - val_loss: 1.0160 - val_auc: 0.8384 - val_precision: 0.5981 - val_recall: 0.4457 - val_accuracy: 0.5426 - lr: 6.1659e-04\n",
            "Epoch 123/200\n",
            "321/321 [==============================] - 46s 142ms/step - loss: 0.7704 - auc: 0.8880 - precision: 0.7083 - recall: 0.5083 - accuracy: 0.6370 - val_loss: 1.0575 - val_auc: 0.8374 - val_precision: 0.5958 - val_recall: 0.4472 - val_accuracy: 0.5489 - lr: 6.0256e-04\n",
            "Epoch 124/200\n",
            "321/321 [==============================] - 46s 142ms/step - loss: 0.7715 - auc: 0.8871 - precision: 0.7080 - recall: 0.5212 - accuracy: 0.6372 - val_loss: 1.0017 - val_auc: 0.8417 - val_precision: 0.6002 - val_recall: 0.4636 - val_accuracy: 0.5504 - lr: 5.8884e-04\n",
            "Epoch 125/200\n",
            "321/321 [==============================] - 46s 144ms/step - loss: 0.7693 - auc: 0.8876 - precision: 0.7003 - recall: 0.5073 - accuracy: 0.6391 - val_loss: 0.9253 - val_auc: 0.8481 - val_precision: 0.6282 - val_recall: 0.4347 - val_accuracy: 0.5512 - lr: 5.7544e-04\n",
            "Epoch 126/200\n",
            "321/321 [==============================] - 46s 143ms/step - loss: 0.7761 - auc: 0.8864 - precision: 0.7012 - recall: 0.5173 - accuracy: 0.6321 - val_loss: 0.9672 - val_auc: 0.8472 - val_precision: 0.6202 - val_recall: 0.4457 - val_accuracy: 0.5520 - lr: 5.6234e-04\n",
            "Epoch 127/200\n",
            "321/321 [==============================] - 46s 144ms/step - loss: 0.7655 - auc: 0.8880 - precision: 0.7052 - recall: 0.5147 - accuracy: 0.6292 - val_loss: 0.9524 - val_auc: 0.8451 - val_precision: 0.6298 - val_recall: 0.4324 - val_accuracy: 0.5512 - lr: 5.4954e-04\n",
            "Epoch 128/200\n",
            "321/321 [==============================] - 46s 144ms/step - loss: 0.7758 - auc: 0.8858 - precision: 0.7075 - recall: 0.5093 - accuracy: 0.6305 - val_loss: 0.9645 - val_auc: 0.8444 - val_precision: 0.6204 - val_recall: 0.4574 - val_accuracy: 0.5543 - lr: 5.3703e-04\n",
            "Epoch 129/200\n",
            "321/321 [==============================] - 46s 144ms/step - loss: 0.7620 - auc: 0.8908 - precision: 0.7077 - recall: 0.5196 - accuracy: 0.6421 - val_loss: 0.9270 - val_auc: 0.8513 - val_precision: 0.6298 - val_recall: 0.4402 - val_accuracy: 0.5629 - lr: 5.2481e-04\n",
            "Epoch 130/200\n",
            "321/321 [==============================] - 45s 141ms/step - loss: 0.7570 - auc: 0.8929 - precision: 0.7237 - recall: 0.5356 - accuracy: 0.6491 - val_loss: 1.0804 - val_auc: 0.8405 - val_precision: 0.6038 - val_recall: 0.4730 - val_accuracy: 0.5645 - lr: 5.1286e-04\n",
            "Epoch 131/200\n",
            "321/321 [==============================] - 45s 141ms/step - loss: 0.7625 - auc: 0.8912 - precision: 0.7099 - recall: 0.5243 - accuracy: 0.6397 - val_loss: 1.0311 - val_auc: 0.8442 - val_precision: 0.6070 - val_recall: 0.4722 - val_accuracy: 0.5715 - lr: 5.0119e-04\n",
            "Epoch 132/200\n",
            "321/321 [==============================] - 46s 142ms/step - loss: 0.7527 - auc: 0.8940 - precision: 0.7216 - recall: 0.5313 - accuracy: 0.6495 - val_loss: 0.9000 - val_auc: 0.8572 - val_precision: 0.6530 - val_recall: 0.4605 - val_accuracy: 0.5786 - lr: 4.8978e-04\n",
            "Epoch 133/200\n",
            "321/321 [==============================] - 45s 142ms/step - loss: 0.7675 - auc: 0.8897 - precision: 0.7070 - recall: 0.5226 - accuracy: 0.6432 - val_loss: 0.9329 - val_auc: 0.8500 - val_precision: 0.6370 - val_recall: 0.4472 - val_accuracy: 0.5629 - lr: 4.7863e-04\n",
            "Epoch 134/200\n",
            "321/321 [==============================] - 46s 142ms/step - loss: 0.7568 - auc: 0.8928 - precision: 0.7057 - recall: 0.5302 - accuracy: 0.6477 - val_loss: 0.9780 - val_auc: 0.8475 - val_precision: 0.6020 - val_recall: 0.4707 - val_accuracy: 0.5528 - lr: 4.6774e-04\n",
            "Epoch 135/200\n",
            "321/321 [==============================] - 46s 143ms/step - loss: 0.7623 - auc: 0.8905 - precision: 0.7089 - recall: 0.5278 - accuracy: 0.6389 - val_loss: 0.9302 - val_auc: 0.8496 - val_precision: 0.6279 - val_recall: 0.4605 - val_accuracy: 0.5676 - lr: 4.5709e-04\n",
            "Epoch 136/200\n",
            "321/321 [==============================] - 46s 144ms/step - loss: 0.7555 - auc: 0.8932 - precision: 0.7095 - recall: 0.5374 - accuracy: 0.6456 - val_loss: 0.9577 - val_auc: 0.8516 - val_precision: 0.6310 - val_recall: 0.4652 - val_accuracy: 0.5661 - lr: 4.4668e-04\n",
            "Epoch 137/200\n",
            "321/321 [==============================] - 46s 145ms/step - loss: 0.7491 - auc: 0.8954 - precision: 0.7170 - recall: 0.5436 - accuracy: 0.6491 - val_loss: 0.9538 - val_auc: 0.8535 - val_precision: 0.6318 - val_recall: 0.4722 - val_accuracy: 0.5715 - lr: 4.3652e-04\n",
            "Epoch 138/200\n",
            "321/321 [==============================] - 46s 144ms/step - loss: 0.7538 - auc: 0.8939 - precision: 0.7185 - recall: 0.5438 - accuracy: 0.6483 - val_loss: 0.9315 - val_auc: 0.8547 - val_precision: 0.6570 - val_recall: 0.4777 - val_accuracy: 0.5770 - lr: 4.2658e-04\n",
            "Epoch 139/200\n",
            "321/321 [==============================] - 46s 144ms/step - loss: 0.7584 - auc: 0.8913 - precision: 0.7079 - recall: 0.5253 - accuracy: 0.6368 - val_loss: 0.9230 - val_auc: 0.8522 - val_precision: 0.6393 - val_recall: 0.4574 - val_accuracy: 0.5731 - lr: 4.1687e-04\n",
            "Epoch 140/200\n",
            "321/321 [==============================] - 46s 143ms/step - loss: 0.7506 - auc: 0.8938 - precision: 0.7125 - recall: 0.5339 - accuracy: 0.6458 - val_loss: 0.9433 - val_auc: 0.8506 - val_precision: 0.6268 - val_recall: 0.4715 - val_accuracy: 0.5536 - lr: 4.0738e-04\n",
            "Epoch 141/200\n",
            "321/321 [==============================] - 46s 142ms/step - loss: 0.7652 - auc: 0.8897 - precision: 0.7003 - recall: 0.5267 - accuracy: 0.6374 - val_loss: 0.9598 - val_auc: 0.8493 - val_precision: 0.6334 - val_recall: 0.4660 - val_accuracy: 0.5606 - lr: 3.9811e-04\n",
            "Epoch 142/200\n",
            "321/321 [==============================] - 46s 142ms/step - loss: 0.7478 - auc: 0.8957 - precision: 0.7197 - recall: 0.5491 - accuracy: 0.6555 - val_loss: 0.9165 - val_auc: 0.8541 - val_precision: 0.6514 - val_recall: 0.4660 - val_accuracy: 0.5715 - lr: 3.8905e-04\n",
            "Epoch 143/200\n",
            "321/321 [==============================] - 46s 144ms/step - loss: 0.7467 - auc: 0.8957 - precision: 0.7215 - recall: 0.5458 - accuracy: 0.6526 - val_loss: 0.9806 - val_auc: 0.8480 - val_precision: 0.6222 - val_recall: 0.4855 - val_accuracy: 0.5614 - lr: 3.8019e-04\n",
            "Epoch 144/200\n",
            "321/321 [==============================] - 46s 144ms/step - loss: 0.7464 - auc: 0.8952 - precision: 0.7178 - recall: 0.5448 - accuracy: 0.6450 - val_loss: 0.9603 - val_auc: 0.8509 - val_precision: 0.6322 - val_recall: 0.4730 - val_accuracy: 0.5551 - lr: 3.7154e-04\n",
            "Epoch 145/200\n",
            "321/321 [==============================] - 47s 146ms/step - loss: 0.7563 - auc: 0.8936 - precision: 0.7139 - recall: 0.5433 - accuracy: 0.6456 - val_loss: 0.9415 - val_auc: 0.8529 - val_precision: 0.6239 - val_recall: 0.4902 - val_accuracy: 0.5676 - lr: 3.6308e-04\n",
            "Epoch 146/200\n",
            "321/321 [==============================] - 47s 145ms/step - loss: 0.7304 - auc: 0.9010 - precision: 0.7270 - recall: 0.5632 - accuracy: 0.6604 - val_loss: 0.9137 - val_auc: 0.8541 - val_precision: 0.6328 - val_recall: 0.4769 - val_accuracy: 0.5684 - lr: 3.5481e-04\n",
            "Epoch 147/200\n",
            "321/321 [==============================] - 48s 149ms/step - loss: 0.7497 - auc: 0.8946 - precision: 0.7142 - recall: 0.5505 - accuracy: 0.6491 - val_loss: 0.9456 - val_auc: 0.8510 - val_precision: 0.6142 - val_recall: 0.4816 - val_accuracy: 0.5614 - lr: 3.4674e-04\n",
            "Epoch 148/200\n",
            "321/321 [==============================] - 46s 143ms/step - loss: 0.7396 - auc: 0.8971 - precision: 0.7206 - recall: 0.5474 - accuracy: 0.6475 - val_loss: 1.0042 - val_auc: 0.8444 - val_precision: 0.6096 - val_recall: 0.4848 - val_accuracy: 0.5520 - lr: 3.3884e-04\n",
            "Epoch 149/200\n",
            "321/321 [==============================] - 47s 145ms/step - loss: 0.7478 - auc: 0.8961 - precision: 0.7158 - recall: 0.5495 - accuracy: 0.6538 - val_loss: 0.9599 - val_auc: 0.8470 - val_precision: 0.6166 - val_recall: 0.4590 - val_accuracy: 0.5543 - lr: 3.3113e-04\n",
            "Epoch 150/200\n",
            "321/321 [==============================] - 47s 145ms/step - loss: 0.7506 - auc: 0.8948 - precision: 0.7163 - recall: 0.5481 - accuracy: 0.6497 - val_loss: 0.9239 - val_auc: 0.8522 - val_precision: 0.6165 - val_recall: 0.4840 - val_accuracy: 0.5614 - lr: 3.2359e-04\n",
            "Epoch 151/200\n",
            "321/321 [==============================] - 46s 145ms/step - loss: 0.7383 - auc: 0.8977 - precision: 0.7213 - recall: 0.5556 - accuracy: 0.6505 - val_loss: 0.9484 - val_auc: 0.8504 - val_precision: 0.6213 - val_recall: 0.4707 - val_accuracy: 0.5614 - lr: 3.1623e-04\n",
            "Epoch 152/200\n",
            "321/321 [==============================] - 46s 143ms/step - loss: 0.7495 - auc: 0.8950 - precision: 0.7175 - recall: 0.5524 - accuracy: 0.6507 - val_loss: 0.9369 - val_auc: 0.8527 - val_precision: 0.6172 - val_recall: 0.4715 - val_accuracy: 0.5622 - lr: 3.0903e-04\n",
            "Epoch 153/200\n",
            "321/321 [==============================] - 46s 144ms/step - loss: 0.7355 - auc: 0.8984 - precision: 0.7210 - recall: 0.5479 - accuracy: 0.6534 - val_loss: 1.0187 - val_auc: 0.8461 - val_precision: 0.6184 - val_recall: 0.4879 - val_accuracy: 0.5684 - lr: 3.0200e-04\n",
            "Epoch 154/200\n",
            "321/321 [==============================] - 46s 144ms/step - loss: 0.7429 - auc: 0.8971 - precision: 0.7155 - recall: 0.5470 - accuracy: 0.6467 - val_loss: 0.9328 - val_auc: 0.8526 - val_precision: 0.6262 - val_recall: 0.4754 - val_accuracy: 0.5653 - lr: 2.9512e-04\n",
            "Epoch 155/200\n",
            "321/321 [==============================] - 46s 143ms/step - loss: 0.7535 - auc: 0.8928 - precision: 0.7055 - recall: 0.5423 - accuracy: 0.6444 - val_loss: 0.9233 - val_auc: 0.8546 - val_precision: 0.6227 - val_recall: 0.4801 - val_accuracy: 0.5653 - lr: 2.8840e-04\n",
            "Epoch 156/200\n",
            "321/321 [==============================] - 47s 145ms/step - loss: 0.7341 - auc: 0.8991 - precision: 0.7204 - recall: 0.5591 - accuracy: 0.6633 - val_loss: 0.9055 - val_auc: 0.8576 - val_precision: 0.6401 - val_recall: 0.4894 - val_accuracy: 0.5700 - lr: 2.8184e-04\n",
            "Epoch 157/200\n",
            "321/321 [==============================] - 47s 145ms/step - loss: 0.7311 - auc: 0.9002 - precision: 0.7112 - recall: 0.5606 - accuracy: 0.6532 - val_loss: 0.9394 - val_auc: 0.8540 - val_precision: 0.6181 - val_recall: 0.4746 - val_accuracy: 0.5692 - lr: 2.7542e-04\n",
            "Epoch 158/200\n",
            "321/321 [==============================] - 47s 145ms/step - loss: 0.7314 - auc: 0.8997 - precision: 0.7171 - recall: 0.5628 - accuracy: 0.6587 - val_loss: 0.9451 - val_auc: 0.8527 - val_precision: 0.6235 - val_recall: 0.4894 - val_accuracy: 0.5653 - lr: 2.6915e-04\n",
            "Epoch 159/200\n",
            "321/321 [==============================] - 46s 144ms/step - loss: 0.7322 - auc: 0.8996 - precision: 0.7184 - recall: 0.5550 - accuracy: 0.6534 - val_loss: 0.9974 - val_auc: 0.8477 - val_precision: 0.6126 - val_recall: 0.4871 - val_accuracy: 0.5614 - lr: 2.6303e-04\n",
            "Epoch 160/200\n",
            "321/321 [==============================] - 46s 144ms/step - loss: 0.7337 - auc: 0.8994 - precision: 0.7199 - recall: 0.5616 - accuracy: 0.6542 - val_loss: 1.0540 - val_auc: 0.8456 - val_precision: 0.6004 - val_recall: 0.4957 - val_accuracy: 0.5598 - lr: 2.5704e-04\n",
            "Epoch 161/200\n",
            "321/321 [==============================] - 47s 146ms/step - loss: 0.7407 - auc: 0.8983 - precision: 0.7248 - recall: 0.5610 - accuracy: 0.6594 - val_loss: 0.9309 - val_auc: 0.8530 - val_precision: 0.6227 - val_recall: 0.4801 - val_accuracy: 0.5739 - lr: 2.5119e-04\n",
            "Epoch 162/200\n",
            "321/321 [==============================] - 46s 145ms/step - loss: 0.7332 - auc: 0.8994 - precision: 0.7197 - recall: 0.5587 - accuracy: 0.6569 - val_loss: 0.9458 - val_auc: 0.8524 - val_precision: 0.6258 - val_recall: 0.4824 - val_accuracy: 0.5723 - lr: 2.4547e-04\n",
            "Epoch 163/200\n",
            "321/321 [==============================] - 47s 147ms/step - loss: 0.7311 - auc: 0.8993 - precision: 0.7154 - recall: 0.5577 - accuracy: 0.6528 - val_loss: 0.9805 - val_auc: 0.8469 - val_precision: 0.6094 - val_recall: 0.4879 - val_accuracy: 0.5622 - lr: 2.3988e-04\n",
            "Epoch 164/200\n",
            "321/321 [==============================] - 47s 145ms/step - loss: 0.7436 - auc: 0.8969 - precision: 0.7153 - recall: 0.5593 - accuracy: 0.6516 - val_loss: 0.8968 - val_auc: 0.8560 - val_precision: 0.6503 - val_recall: 0.4652 - val_accuracy: 0.5801 - lr: 2.3442e-04\n",
            "Epoch 165/200\n",
            "321/321 [==============================] - 47s 147ms/step - loss: 0.7458 - auc: 0.8965 - precision: 0.7124 - recall: 0.5491 - accuracy: 0.6555 - val_loss: 0.9981 - val_auc: 0.8469 - val_precision: 0.6089 - val_recall: 0.4808 - val_accuracy: 0.5559 - lr: 2.2909e-04\n",
            "Epoch 166/200\n",
            "321/321 [==============================] - 47s 145ms/step - loss: 0.7465 - auc: 0.8960 - precision: 0.7098 - recall: 0.5474 - accuracy: 0.6495 - val_loss: 0.9490 - val_auc: 0.8505 - val_precision: 0.6141 - val_recall: 0.4754 - val_accuracy: 0.5543 - lr: 2.2387e-04\n",
            "Epoch 167/200\n",
            "321/321 [==============================] - 46s 144ms/step - loss: 0.7176 - auc: 0.9049 - precision: 0.7279 - recall: 0.5663 - accuracy: 0.6678 - val_loss: 0.9845 - val_auc: 0.8475 - val_precision: 0.6072 - val_recall: 0.4848 - val_accuracy: 0.5504 - lr: 2.1878e-04\n",
            "Epoch 168/200\n",
            "321/321 [==============================] - 47s 146ms/step - loss: 0.7313 - auc: 0.9015 - precision: 0.7229 - recall: 0.5757 - accuracy: 0.6661 - val_loss: 0.9906 - val_auc: 0.8476 - val_precision: 0.6031 - val_recall: 0.4871 - val_accuracy: 0.5598 - lr: 2.1380e-04\n",
            "Epoch 169/200\n",
            "321/321 [==============================] - 47s 146ms/step - loss: 0.7374 - auc: 0.8989 - precision: 0.7177 - recall: 0.5634 - accuracy: 0.6583 - val_loss: 0.9438 - val_auc: 0.8516 - val_precision: 0.6199 - val_recall: 0.4871 - val_accuracy: 0.5700 - lr: 2.0893e-04\n",
            "Epoch 170/200\n",
            "321/321 [==============================] - 46s 145ms/step - loss: 0.7383 - auc: 0.8992 - precision: 0.7246 - recall: 0.5563 - accuracy: 0.6592 - val_loss: 0.9263 - val_auc: 0.8530 - val_precision: 0.6287 - val_recall: 0.4832 - val_accuracy: 0.5786 - lr: 2.0417e-04\n",
            "Epoch 171/200\n",
            "321/321 [==============================] - 47s 146ms/step - loss: 0.7304 - auc: 0.9005 - precision: 0.7231 - recall: 0.5608 - accuracy: 0.6596 - val_loss: 0.9858 - val_auc: 0.8488 - val_precision: 0.6033 - val_recall: 0.4840 - val_accuracy: 0.5512 - lr: 1.9953e-04\n",
            "Epoch 172/200\n",
            "321/321 [==============================] - 47s 145ms/step - loss: 0.7407 - auc: 0.8981 - precision: 0.7194 - recall: 0.5577 - accuracy: 0.6573 - val_loss: 0.9289 - val_auc: 0.8521 - val_precision: 0.6121 - val_recall: 0.4824 - val_accuracy: 0.5653 - lr: 1.9498e-04\n",
            "Epoch 173/200\n",
            "321/321 [==============================] - 47s 146ms/step - loss: 0.7266 - auc: 0.9016 - precision: 0.7211 - recall: 0.5684 - accuracy: 0.6633 - val_loss: 0.9444 - val_auc: 0.8499 - val_precision: 0.6163 - val_recall: 0.4683 - val_accuracy: 0.5653 - lr: 1.9055e-04\n",
            "Epoch 174/200\n",
            "321/321 [==============================] - 46s 145ms/step - loss: 0.7387 - auc: 0.8981 - precision: 0.7172 - recall: 0.5630 - accuracy: 0.6522 - val_loss: 0.9567 - val_auc: 0.8502 - val_precision: 0.6162 - val_recall: 0.4746 - val_accuracy: 0.5629 - lr: 1.8621e-04\n",
            "Epoch 175/200\n",
            "321/321 [==============================] - 47s 145ms/step - loss: 0.7349 - auc: 0.8995 - precision: 0.7253 - recall: 0.5532 - accuracy: 0.6600 - val_loss: 0.9247 - val_auc: 0.8535 - val_precision: 0.6267 - val_recall: 0.4777 - val_accuracy: 0.5747 - lr: 1.8197e-04\n",
            "Epoch 176/200\n",
            "321/321 [==============================] - 46s 145ms/step - loss: 0.7191 - auc: 0.9046 - precision: 0.7268 - recall: 0.5747 - accuracy: 0.6737 - val_loss: 0.9373 - val_auc: 0.8497 - val_precision: 0.6162 - val_recall: 0.4832 - val_accuracy: 0.5676 - lr: 1.7783e-04\n",
            "Epoch 177/200\n",
            "321/321 [==============================] - 46s 144ms/step - loss: 0.7355 - auc: 0.8989 - precision: 0.7167 - recall: 0.5602 - accuracy: 0.6575 - val_loss: 0.9337 - val_auc: 0.8528 - val_precision: 0.6196 - val_recall: 0.4840 - val_accuracy: 0.5700 - lr: 1.7378e-04\n",
            "Epoch 178/200\n",
            "321/321 [==============================] - 46s 144ms/step - loss: 0.7356 - auc: 0.8991 - precision: 0.7131 - recall: 0.5544 - accuracy: 0.6587 - val_loss: 0.9258 - val_auc: 0.8530 - val_precision: 0.6180 - val_recall: 0.4769 - val_accuracy: 0.5637 - lr: 1.6982e-04\n",
            "Epoch 179/200\n",
            "321/321 [==============================] - 47s 145ms/step - loss: 0.7186 - auc: 0.9035 - precision: 0.7249 - recall: 0.5604 - accuracy: 0.6641 - val_loss: 0.9400 - val_auc: 0.8508 - val_precision: 0.6185 - val_recall: 0.4754 - val_accuracy: 0.5684 - lr: 1.6596e-04\n",
            "Epoch 180/200\n",
            "321/321 [==============================] - 46s 144ms/step - loss: 0.7183 - auc: 0.9038 - precision: 0.7241 - recall: 0.5745 - accuracy: 0.6647 - val_loss: 0.9562 - val_auc: 0.8486 - val_precision: 0.6190 - val_recall: 0.4777 - val_accuracy: 0.5692 - lr: 1.6218e-04\n",
            "Epoch 181/200\n",
            "321/321 [==============================] - 47s 146ms/step - loss: 0.7293 - auc: 0.9012 - precision: 0.7180 - recall: 0.5647 - accuracy: 0.6565 - val_loss: 0.9360 - val_auc: 0.8517 - val_precision: 0.6182 - val_recall: 0.4824 - val_accuracy: 0.5661 - lr: 1.5849e-04\n",
            "Epoch 182/200\n",
            "321/321 [==============================] - 46s 143ms/step - loss: 0.7259 - auc: 0.9017 - precision: 0.7247 - recall: 0.5737 - accuracy: 0.6610 - val_loss: 0.9271 - val_auc: 0.8515 - val_precision: 0.6175 - val_recall: 0.4848 - val_accuracy: 0.5692 - lr: 1.5488e-04\n",
            "Epoch 183/200\n",
            "321/321 [==============================] - 46s 144ms/step - loss: 0.7301 - auc: 0.9011 - precision: 0.7232 - recall: 0.5688 - accuracy: 0.6661 - val_loss: 0.9353 - val_auc: 0.8533 - val_precision: 0.6241 - val_recall: 0.4855 - val_accuracy: 0.5708 - lr: 1.5136e-04\n",
            "Epoch 184/200\n",
            "321/321 [==============================] - 47s 145ms/step - loss: 0.7343 - auc: 0.8997 - precision: 0.7234 - recall: 0.5675 - accuracy: 0.6598 - val_loss: 0.9341 - val_auc: 0.8517 - val_precision: 0.6155 - val_recall: 0.4855 - val_accuracy: 0.5708 - lr: 1.4791e-04\n",
            "Epoch 185/200\n",
            "321/321 [==============================] - 46s 144ms/step - loss: 0.7164 - auc: 0.9036 - precision: 0.7244 - recall: 0.5671 - accuracy: 0.6587 - val_loss: 0.9395 - val_auc: 0.8536 - val_precision: 0.6201 - val_recall: 0.4863 - val_accuracy: 0.5653 - lr: 1.4454e-04\n",
            "Epoch 186/200\n",
            "321/321 [==============================] - 46s 144ms/step - loss: 0.7215 - auc: 0.9042 - precision: 0.7342 - recall: 0.5835 - accuracy: 0.6714 - val_loss: 0.9153 - val_auc: 0.8542 - val_precision: 0.6195 - val_recall: 0.4926 - val_accuracy: 0.5762 - lr: 1.4125e-04\n",
            "Epoch 187/200\n",
            "321/321 [==============================] - 47s 145ms/step - loss: 0.7253 - auc: 0.9017 - precision: 0.7200 - recall: 0.5690 - accuracy: 0.6608 - val_loss: 0.9309 - val_auc: 0.8540 - val_precision: 0.6179 - val_recall: 0.4918 - val_accuracy: 0.5872 - lr: 1.3804e-04\n",
            "Epoch 188/200\n",
            "321/321 [==============================] - 46s 143ms/step - loss: 0.7174 - auc: 0.9043 - precision: 0.7275 - recall: 0.5708 - accuracy: 0.6645 - val_loss: 0.9387 - val_auc: 0.8525 - val_precision: 0.6202 - val_recall: 0.4902 - val_accuracy: 0.5809 - lr: 1.3490e-04\n",
            "Epoch 189/200\n",
            "321/321 [==============================] - 46s 144ms/step - loss: 0.7200 - auc: 0.9045 - precision: 0.7346 - recall: 0.5768 - accuracy: 0.6735 - val_loss: 0.9399 - val_auc: 0.8518 - val_precision: 0.6221 - val_recall: 0.4879 - val_accuracy: 0.5778 - lr: 1.3183e-04\n",
            "Epoch 190/200\n",
            "321/321 [==============================] - 47s 146ms/step - loss: 0.7292 - auc: 0.9015 - precision: 0.7233 - recall: 0.5682 - accuracy: 0.6690 - val_loss: 0.9376 - val_auc: 0.8541 - val_precision: 0.6249 - val_recall: 0.4910 - val_accuracy: 0.5794 - lr: 1.2882e-04\n",
            "Epoch 191/200\n",
            "321/321 [==============================] - 46s 144ms/step - loss: 0.7145 - auc: 0.9059 - precision: 0.7295 - recall: 0.5798 - accuracy: 0.6737 - val_loss: 0.9517 - val_auc: 0.8522 - val_precision: 0.6162 - val_recall: 0.4934 - val_accuracy: 0.5676 - lr: 1.2589e-04\n",
            "Epoch 192/200\n",
            "321/321 [==============================] - 46s 144ms/step - loss: 0.7175 - auc: 0.9050 - precision: 0.7336 - recall: 0.5807 - accuracy: 0.6692 - val_loss: 0.9365 - val_auc: 0.8538 - val_precision: 0.6220 - val_recall: 0.5004 - val_accuracy: 0.5880 - lr: 1.2303e-04\n",
            "Epoch 193/200\n",
            "321/321 [==============================] - 46s 144ms/step - loss: 0.7174 - auc: 0.9048 - precision: 0.7309 - recall: 0.5796 - accuracy: 0.6731 - val_loss: 0.9345 - val_auc: 0.8537 - val_precision: 0.6183 - val_recall: 0.4965 - val_accuracy: 0.5841 - lr: 1.2023e-04\n",
            "Epoch 194/200\n",
            "321/321 [==============================] - 46s 144ms/step - loss: 0.7156 - auc: 0.9049 - precision: 0.7258 - recall: 0.5768 - accuracy: 0.6692 - val_loss: 0.9745 - val_auc: 0.8512 - val_precision: 0.6159 - val_recall: 0.5027 - val_accuracy: 0.5668 - lr: 1.1749e-04\n",
            "Epoch 195/200\n",
            "321/321 [==============================] - 46s 145ms/step - loss: 0.7216 - auc: 0.9025 - precision: 0.7227 - recall: 0.5766 - accuracy: 0.6622 - val_loss: 0.9411 - val_auc: 0.8534 - val_precision: 0.6249 - val_recall: 0.4949 - val_accuracy: 0.5794 - lr: 1.1482e-04\n",
            "Epoch 196/200\n",
            "321/321 [==============================] - 46s 144ms/step - loss: 0.7211 - auc: 0.9033 - precision: 0.7287 - recall: 0.5815 - accuracy: 0.6637 - val_loss: 0.9600 - val_auc: 0.8516 - val_precision: 0.6117 - val_recall: 0.4926 - val_accuracy: 0.5715 - lr: 1.1220e-04\n",
            "Epoch 197/200\n",
            "321/321 [==============================] - 47s 145ms/step - loss: 0.7211 - auc: 0.9039 - precision: 0.7241 - recall: 0.5839 - accuracy: 0.6719 - val_loss: 0.9570 - val_auc: 0.8539 - val_precision: 0.6162 - val_recall: 0.4996 - val_accuracy: 0.5762 - lr: 1.0965e-04\n",
            "Epoch 198/200\n",
            "321/321 [==============================] - 47s 145ms/step - loss: 0.7200 - auc: 0.9035 - precision: 0.7247 - recall: 0.5835 - accuracy: 0.6612 - val_loss: 0.9543 - val_auc: 0.8523 - val_precision: 0.6103 - val_recall: 0.4934 - val_accuracy: 0.5708 - lr: 1.0715e-04\n",
            "Epoch 199/200\n",
            "321/321 [==============================] - 46s 144ms/step - loss: 0.7271 - auc: 0.9029 - precision: 0.7265 - recall: 0.5778 - accuracy: 0.6700 - val_loss: 0.9117 - val_auc: 0.8557 - val_precision: 0.6244 - val_recall: 0.4965 - val_accuracy: 0.5794 - lr: 1.0471e-04\n",
            "Epoch 200/200\n",
            "321/321 [==============================] - 46s 145ms/step - loss: 0.7129 - auc: 0.9065 - precision: 0.7408 - recall: 0.5815 - accuracy: 0.6758 - val_loss: 0.9267 - val_auc: 0.8568 - val_precision: 0.6244 - val_recall: 0.5043 - val_accuracy: 0.5895 - lr: 1.0233e-04\n"
          ]
        }
      ],
      "source": [
        "EPOCHS = 200\n",
        "history = model.fit(\n",
        "    train_ds,\n",
        "    validation_data=val_ds,\n",
        "    callbacks=[checkpoint_cb, lr_scheduler, ReduceLROnPlateau(patience=10, factor=.5)],\n",
        "    epochs=EPOCHS\n",
        ")"
      ]
    },
    {
      "cell_type": "code",
      "execution_count": null,
      "metadata": {
        "colab": {
          "base_uri": "https://localhost:8080/",
          "height": 291
        },
        "id": "n3KG-Om7McIi",
        "outputId": "c09099c7-c103-4dd5-8a5d-16f086cc4a9f"
      },
      "outputs": [
        {
          "output_type": "display_data",
          "data": {
            "text/plain": [
              "<Figure size 2000x300 with 2 Axes>"
            ],
            "image/png": "[encoded data removed]"
          },
          "metadata": {}
        }
      ],
      "source": [
        "fig, ax = plt.subplots(1, 2, figsize=(20, 3))\n",
        "ax = ax.ravel()\n",
        "\n",
        "for i, met in enumerate(['auc', 'loss']):\n",
        "    ax[i].plot(history.history[met])\n",
        "    ax[i].plot(history.history['val_' + met])\n",
        "    ax[i].set_title('Model {}'.format(met))\n",
        "    ax[i].set_xlabel('epochs')\n",
        "    ax[i].set_ylabel(met)\n",
        "    ax[i].legend(['train', 'val'])"
      ]
    },
    {
      "cell_type": "code",
      "execution_count": null,
      "metadata": {
        "colab": {
          "base_uri": "https://localhost:8080/"
        },
        "id": "l8YF7qSbOcpM",
        "outputId": "d85e39f6-13fb-4d9e-9c82-58828f7ab543"
      },
      "outputs": [
        {
          "output_type": "stream",
          "name": "stdout",
          "text": [
            "Found 1279 files belonging to 4 classes.\n"
          ]
        }
      ],
      "source": [
        "test_ds = tf.keras.preprocessing.image_dataset_from_directory(\n",
        "    \"tmp/Alzheimer_s Dataset/test\",\n",
        "    image_size=IMAGE_SIZE,\n",
        "    batch_size=BATCH_SIZE,\n",
        ")\n",
        "\n",
        "test_ds = test_ds.map(one_hot_label, num_parallel_calls=AUTOTUNE)\n",
        "test_ds = test_ds.cache().prefetch(buffer_size=AUTOTUNE)\n"
      ]
    },
    {
      "cell_type": "code",
      "execution_count": null,
      "metadata": {
        "colab": {
          "base_uri": "https://localhost:8080/"
        },
        "id": "mtA9tJAeOyQF",
        "outputId": "257c43fd-9428-45c9-8ac4-f14e53084337"
      },
      "outputs": [
        {
          "output_type": "stream",
          "name": "stdout",
          "text": [
            "80/80 [==============================] - 1s 14ms/step - loss: 442.2870 - auc: 0.6669 - precision: 0.5004 - recall: 0.5004 - accuracy: 0.5004\n"
          ]
        }
      ],
      "source": [
        "_= model.evaluate(test_ds)"
      ]
    },
    {
      "cell_type": "code",
      "execution_count": null,
      "metadata": {
        "id": "BfQn2LbtO3xc"
      },
      "outputs": [],
      "source": []
    }
  ],
  "metadata": {
    "accelerator": "GPU",
    "colab": {
      "provenance": []
    },
    "gpuClass": "standard",
    "kernelspec": {
      "display_name": "Python 3",
      "name": "python3"
    },
    "language_info": {
      "name": "python"
    }
  },
  "nbformat": 4,
  "nbformat_minor": 0
}